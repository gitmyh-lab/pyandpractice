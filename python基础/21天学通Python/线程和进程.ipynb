{
 "cells": [
  {
   "cell_type": "code",
   "execution_count": 2,
   "id": "9802c3ca-e9c5-4f79-9355-de2f2b8e8877",
   "metadata": {},
   "outputs": [
    {
     "name": "stdout",
     "output_type": "stream",
     "text": [
      "1;256;\n",
      "289;\n",
      "324;\n",
      "361;\n",
      "400;\n",
      "\n",
      "4;\n",
      "9;\n",
      "16;\n",
      "25;\n"
     ]
    }
   ],
   "source": [
    "import threading\n",
    "def thrfun(x,y):\n",
    "    for i in range(x,y):\n",
    "        print(str(i*i)+';')\n",
    "#用 threading.Thread 直接在线程中运行函数\n",
    "#其中 target 参数就是要运行的函数，args 是传入函数的参数元组。\n",
    "ta = threading.Thread(target=thrfun,args=(1,6))\n",
    "tb = threading.Thread(target=thrfun,args=(16,21))\n",
    "ta.start()\n",
    "tb.start()\n",
    "#运行结果不符"
   ]
  },
  {
   "cell_type": "code",
   "execution_count": 3,
   "id": "b400ad65-cd65-4529-bc89-1ba2b5ac43db",
   "metadata": {},
   "outputs": [
    {
     "name": "stdout",
     "output_type": "stream",
     "text": [
      "1;\n",
      "4;\n",
      "9;\n",
      "16;\n",
      "25;\n",
      "256;\n",
      "289;\n",
      "324;\n",
      "361;\n",
      "400;\n"
     ]
    }
   ],
   "source": [
    "#通过继承 threading.Thread 类来创建线程\n",
    "import threading\n",
    "class myThread(threading.Thread):\n",
    "    def __init__(self,mynum):\n",
    "        super().__init__()#如果需要重载__init__()方法，必须首先调用父类\n",
    "        self.mynum = mynum\n",
    "    def run(self):\n",
    "        for i in range(self.mynum,self.mynum+5):\n",
    "            print(str(i*i)+';')\n",
    "ma = myThread(1)\n",
    "mb = myThread(16)\n",
    "ma.start()\n",
    "mb.start()\n",
    "#运行结果不符"
   ]
  },
  {
   "cell_type": "code",
   "execution_count": 5,
   "id": "17e57b79-edc8-400b-8e3f-85579f3e76d9",
   "metadata": {},
   "outputs": [
    {
     "name": "stdout",
     "output_type": "stream",
     "text": [
      "1;\n",
      "4;\n",
      "9;\n",
      "16;\n",
      "25;\n",
      "256;\n",
      "289;\n",
      "324;\n",
      "361;\n",
      "400;\n"
     ]
    }
   ],
   "source": [
    "import threading\n",
    "import time\n",
    "def thrfun(x,y,thr=None):\n",
    "    if thr:\n",
    "        #join()方法作用是当某个线程或函数执行时需等另一个线程完成操作后才能\n",
    "        #继续，则应调用另一个线程的 join()方法\n",
    "        thr.join()\n",
    "    else:\n",
    "        time.sleep(2)\n",
    "    for i in range(x,y):\n",
    "        print(str(i*i)+';')\n",
    "ta = threading.Thread(target=thrfun,args=(1,6))\n",
    "tb = threading.Thread(target=thrfun,args=(16,21,ta))\n",
    "ta.start()\n",
    "tb.start()"
   ]
  },
  {
   "cell_type": "code",
   "execution_count": 6,
   "id": "6a4f2abe-72d9-48dc-bef6-d1bef431f836",
   "metadata": {},
   "outputs": [
    {
     "name": "stdout",
     "output_type": "stream",
     "text": [
      "start...\n",
      "end...\n",
      "256;1;\n",
      "4;\n",
      "9;\n",
      "16;\n",
      "25;\n",
      "\n",
      "289;\n",
      "324;\n",
      "361;\n",
      "400;\n"
     ]
    }
   ],
   "source": [
    "import threading\n",
    "import time\n",
    "class myThread(threading.Thread):\n",
    "    def __init__(self,mynum):\n",
    "        super().__init__()\n",
    "        self.mynum = mynum\n",
    "    def run(self):\n",
    "        time.sleep(1)\n",
    "        for i in range(self.mynum,self.mynum+5):\n",
    "            print(str(i*i)+';')\n",
    "def main():\n",
    "    print('start...')\n",
    "    ma = myThread(1)\n",
    "    mb = myThread(16)\n",
    "    #daemon 属性用来设置线程是否随主线程退出而退出，一般来说，其属性值\n",
    "    #为 True 时不会随主线程退出而退出。\n",
    "    ma.daemon = True\n",
    "    mb.daemon = True\n",
    "    ma.start()\n",
    "    mb.start()\n",
    "    print('end...')\n",
    "\n",
    "main()\n",
    "#如果在交互式模式下运行该实例，则还是会有输出。因为，在交互式模式的主线程只\n",
    "#有在退出 Python 时才终止。\n",
    "# 运行结果不符，也许因为jupyter是交互模式"
   ]
  },
  {
   "cell_type": "code",
   "execution_count": 1,
   "id": "1ef981d4-cb16-4ced-9f17-c8ae63095f49",
   "metadata": {},
   "outputs": [
    {
     "name": "stdout",
     "output_type": "stream",
     "text": [
      "30\n",
      "60\n",
      "90\n",
      "120\n",
      "150\n"
     ]
    }
   ],
   "source": [
    "import threading\n",
    "import time\n",
    "class myThread(threading.Thread):\n",
    "    def run(self):\n",
    "        global x\n",
    "        lock.acquire()##开始锁定\n",
    "        for i in range(3):#访问或操作多个线程共享的数据\n",
    "            x += 10\n",
    "        time.sleep(1)\n",
    "        print(x)\n",
    "        lock.release()#释放锁\n",
    "x = 0\n",
    "lock = threading.RLock()#创建 lock 对象\n",
    "def main():\n",
    "    thrs = []\n",
    "    #初始化了 5 个线程来修改变量 x\n",
    "    for item in range(5):\n",
    "        thrs.append(myThread())\n",
    "    #但同一时刻只能由一个线程对 x 操作\n",
    "    for item in thrs:\n",
    "        item.start()\n",
    "main()"
   ]
  },
  {
   "cell_type": "code",
   "execution_count": 2,
   "id": "bfaa134b-9bb1-4125-84c8-a99af955b8d1",
   "metadata": {},
   "outputs": [
    {
     "name": "stdout",
     "output_type": "stream",
     "text": [
      "Smith :Good morning!\n",
      "John :Good morning!\n",
      "Smith :How are you?\n",
      "John :I'm fine,thank you.\n"
     ]
    }
   ],
   "source": [
    "#两个线程通过 Event 来唤醒对方，模拟人物对话\n",
    "import threading\n",
    "import time\n",
    "class myThreada(threading.Thread):\n",
    "    def run(self):\n",
    "        evt.wait()#wait([timeout])方法会使当前线程阻塞至标志为 True\n",
    "        print(self.name,':Good morning!')\n",
    "        evt.clear()#使用 clear()方法会将它重置为 False\n",
    "        time.sleep(1)\n",
    "        evt.set()#设置为 True\n",
    "        time.sleep(1)\n",
    "        evt.wait()\n",
    "        print(self.name,\":I'm fine,thank you.\")\n",
    " \n",
    "class myThreadb(threading.Thread):\n",
    "    def run(self):\n",
    "        print(self.name,':Good morning!')\n",
    "        evt.set()\n",
    "        time.sleep(1)\n",
    "        evt.wait()\n",
    "        print(self.name,':How are you?')\n",
    "        evt.clear()\n",
    "        time.sleep(1)\n",
    "        evt.set()\n",
    "        \n",
    "#线程间的通信可以使用 threading 模块的 Event 对象\n",
    "evt = threading.Event()\n",
    "def main():\n",
    "    John = myThreada()\n",
    "    John.name = \"John\"\n",
    "    Smith = myThreadb()\n",
    "    Smith.name = 'Smith'\n",
    "    John.start()\n",
    "    Smith.start()\n",
    "\n",
    "main()"
   ]
  },
  {
   "cell_type": "code",
   "execution_count": null,
   "id": "ddba2e40-808e-4f4b-939d-e07d7702d826",
   "metadata": {},
   "outputs": [],
   "source": []
  }
 ],
 "metadata": {
  "kernelspec": {
   "display_name": "Python 3 (ipykernel)",
   "language": "python",
   "name": "python3"
  },
  "language_info": {
   "codemirror_mode": {
    "name": "ipython",
    "version": 3
   },
   "file_extension": ".py",
   "mimetype": "text/x-python",
   "name": "python",
   "nbconvert_exporter": "python",
   "pygments_lexer": "ipython3",
   "version": "3.12.4"
  }
 },
 "nbformat": 4,
 "nbformat_minor": 5
}
