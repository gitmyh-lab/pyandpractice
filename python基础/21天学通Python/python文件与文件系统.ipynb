{
 "cells": [
  {
   "cell_type": "code",
   "execution_count": 2,
   "id": "047dceec-2cd4-4eea-bc21-b8e436c9ae50",
   "metadata": {},
   "outputs": [
    {
     "name": "stdout",
     "output_type": "stream",
     "text": [
      "第1 行的数据为： 1\n",
      "\n",
      "第2 行的数据为： 2\n",
      "\n",
      "第3 行的数据为： 3\n",
      "\n",
      "第4 行的数据为： 4\n",
      "\n",
      "第5 行的数据为： 5\n",
      "这些数的和为： 15\n"
     ]
    }
   ],
   "source": [
    "def file_hdl(name='python.txt'): #定义一个文件数据处理函数\n",
    "    f = open(name) #打开文件\n",
    "    res = 0 #累加器变量\n",
    "    i = 0 #计算读取的行数\n",
    "    for line in f: #迭代文件中的行\n",
    "        i += 1\n",
    "        print('第%s 行的数据为：' % line.strip(),line)\n",
    "        res += int(line) #累加数据\n",
    "    print('这些数的和为：',res)\n",
    "    f.close() #关闭文件\n",
    "    \n",
    "file_hdl() #调用函数"
   ]
  },
  {
   "cell_type": "code",
   "execution_count": null,
   "id": "deba3865-1225-4f32-b9eb-a90a7a5cc9dc",
   "metadata": {},
   "outputs": [],
   "source": [
    "def file_hdl(name='python.txt'): #定义一个文件数据处理函数\n",
    "    with open(name) as f: #打开文件\n",
    "        res = 0 #累加器变量\n",
    "        i = 0 #计算读取的行数\n",
    "        for line in f: #迭代文件中的行\n",
    "            i += 1\n",
    "            print('第%s 行的数据为：' % line.strip(),line)\n",
    "            res += int(line) #累加数据\n",
    "    print('这些数的和为：',res)"
   ]
  },
  {
   "cell_type": "code",
   "execution_count": 3,
   "id": "8d6e4e34-7148-42f7-912b-f869a4d7e208",
   "metadata": {},
   "outputs": [
    {
     "name": "stdout",
     "output_type": "stream",
     "text": [
      "总第1 行, 文件fpa.txt 中第1 行：\n",
      "fpa1\n",
      "总第2 行, 文件fpa.txt 中第2 行：\n",
      "fpa2\n",
      "总第3 行, 文件fpa.txt 中第3 行：\n",
      "fpa3\n",
      "总第4 行, 文件fpb.txt 中第1 行：\n",
      "fpb1\n",
      "总第5 行, 文件fpb.txt 中第2 行：\n",
      "fpb2\n",
      "总第6 行, 文件fpb.txt 中第3 行：\n",
      "fpb3\n"
     ]
    }
   ],
   "source": [
    "import fileinput\n",
    "def demo_fileinput():\n",
    "    #input()：#返回能够用于迭代一个或多个文件中所有行的对象；\n",
    "    with fileinput.input(['fpa.txt','fpb.txt']) as lines: #用 with 语句\n",
    "        for line in lines: #迭代处理二个文件\n",
    "            #lineno()：#返回当前读取的行的数量；\n",
    "            #filename()：#返回当前文件的名称；\n",
    "            #filelineno()：#返回当前读取行在文件中的行数。\n",
    "            print(\"总第%d 行,\" % fileinput.lineno(), \n",
    "                \"文件%s 中第%d 行：\" %\n",
    "                (fileinput.filename(),fileinput.filelineno()))\n",
    "            print(line.strip())\n",
    "\n",
    "demo_fileinput()"
   ]
  },
  {
   "cell_type": "code",
   "execution_count": 4,
   "id": "eafb5605-09c8-41a0-920e-091a7875e21e",
   "metadata": {},
   "outputs": [
    {
     "name": "stdout",
     "output_type": "stream",
     "text": [
      "当前目录是： C:\\Users\\lenovo\\python practice\n"
     ]
    }
   ],
   "source": [
    "import os\n",
    "print('当前目录是：',os.getcwd())"
   ]
  },
  {
   "cell_type": "code",
   "execution_count": 5,
   "id": "09a4a57d-c1b9-4fe0-97b8-d4304f4dcac7",
   "metadata": {},
   "outputs": [
    {
     "data": {
      "text/plain": [
       "['.ipynb_checkpoints',\n",
       " 'fpa.txt',\n",
       " 'fpb.txt',\n",
       " 'my.txt',\n",
       " 'mytest.txt',\n",
       " 'python.txt',\n",
       " 'python文件与文件系统.ipynb',\n",
       " 'python模块和包.ipynb',\n",
       " 'python类.ipynb',\n",
       " 'python进阶话题.ipynb',\n",
       " 'python迭代器生成器装饰器.ipynb',\n",
       " 'python错误和异常.ipynb']"
      ]
     },
     "execution_count": 5,
     "metadata": {},
     "output_type": "execute_result"
    }
   ],
   "source": [
    "os.listdir()"
   ]
  },
  {
   "cell_type": "code",
   "execution_count": 6,
   "id": "40d548bf-c27b-41bb-b2ca-0ff9710f6326",
   "metadata": {},
   "outputs": [
    {
     "data": {
      "text/plain": [
       "['.ipynb_checkpoints',\n",
       " 'fpa.txt',\n",
       " 'fpb.txt',\n",
       " 'my.txt',\n",
       " 'mytest.txt',\n",
       " 'python.txt',\n",
       " 'python文件与文件系统.ipynb',\n",
       " 'python模块和包.ipynb',\n",
       " 'python类.ipynb',\n",
       " 'python进阶话题.ipynb',\n",
       " 'python迭代器生成器装饰器.ipynb',\n",
       " 'python错误和异常.ipynb',\n",
       " 'test2']"
      ]
     },
     "execution_count": 6,
     "metadata": {},
     "output_type": "execute_result"
    }
   ],
   "source": [
    "os.mkdir('test2')\n",
    "os.listdir()"
   ]
  },
  {
   "cell_type": "code",
   "execution_count": 7,
   "id": "73a076fe-5282-4758-a677-ab5a2e20fe5f",
   "metadata": {},
   "outputs": [
    {
     "data": {
      "text/plain": [
       "['.ipynb_checkpoints',\n",
       " 'fpa.txt',\n",
       " 'fpb.txt',\n",
       " 'my.txt',\n",
       " 'mytest.txt',\n",
       " 'python.txt',\n",
       " 'python文件与文件系统.ipynb',\n",
       " 'python模块和包.ipynb',\n",
       " 'python类.ipynb',\n",
       " 'python进阶话题.ipynb',\n",
       " 'python迭代器生成器装饰器.ipynb',\n",
       " 'python错误和异常.ipynb']"
      ]
     },
     "execution_count": 7,
     "metadata": {},
     "output_type": "execute_result"
    }
   ],
   "source": [
    "os.rmdir('test2')\n",
    "os.listdir()"
   ]
  },
  {
   "cell_type": "code",
   "execution_count": 8,
   "id": "3fbd744a-5dbf-4133-95fd-32d8cd352cac",
   "metadata": {},
   "outputs": [
    {
     "data": {
      "text/plain": [
       "False"
      ]
     },
     "execution_count": 8,
     "metadata": {},
     "output_type": "execute_result"
    }
   ],
   "source": [
    "os.path.isdir('fpb.txt')"
   ]
  },
  {
   "cell_type": "code",
   "execution_count": 11,
   "id": "fe29284d-a895-45fa-b22d-aa31f6ec7ea3",
   "metadata": {},
   "outputs": [
    {
     "data": {
      "text/plain": [
       "True"
      ]
     },
     "execution_count": 11,
     "metadata": {},
     "output_type": "execute_result"
    }
   ],
   "source": [
    "os.path.isfile('fpb.txt')"
   ]
  },
  {
   "cell_type": "code",
   "execution_count": 13,
   "id": "954cd7a2-a349-4db5-97e5-a796639cf6f8",
   "metadata": {},
   "outputs": [
    {
     "name": "stdout",
     "output_type": "stream",
     "text": [
      "('.\\\\', ['.ipynb_checkpoints'], ['fpa.txt', 'fpb.txt', 'my.txt', 'mytest.txt', 'python.txt', 'python文件与文件系统.ipynb', 'python模块和包.ipynb', 'python类.ipynb', 'python进阶话题.ipynb', 'python迭代器生成器装饰器.ipynb', 'python错误和异常.ipynb'])\n",
      "('.\\\\.ipynb_checkpoints', [], ['fpa-checkpoint.txt', 'fpb-checkpoint.txt', 'mytest-checkpoint.txt', 'python-checkpoint.txt', 'python文件与文件系统-checkpoint.ipynb', 'python模块和包-checkpoint.ipynb', 'python类-checkpoint.ipynb', 'python进阶话题-checkpoint.ipynb', 'python迭代器生成器装饰器-checkpoint.ipynb', 'python错误和异常-checkpoint.ipynb'])\n"
     ]
    }
   ],
   "source": [
    "#递归地遍历指定目录下的所有文件和子目录\n",
    "for i in os.walk('.\\\\'):\n",
    "    print(i)"
   ]
  },
  {
   "cell_type": "code",
   "execution_count": 14,
   "id": "39e86d86-d489-4ddd-abde-079024784074",
   "metadata": {},
   "outputs": [
    {
     "name": "stdout",
     "output_type": "stream",
     "text": [
      "成功生成！\n"
     ]
    }
   ],
   "source": [
    "import os\n",
    "filenames = [] #所有文件名的存放列表\n",
    "for a,b,files in os.walk('test'): #获取当前目录下 test 目录中的所有文件\n",
    "    if files:\n",
    "        filenames.append([file[:-4] for file in files])#扩展名为 3 个字母\n",
    "fname = 'testexam' #指定生成电子表格的文件名\n",
    "i = 0\n",
    "for files in filenames:\n",
    "    f=open(fname+str(i)+'.xls','w') #打开指定的文件\n",
    "    for name in files:\n",
    "        f.write(name[-2:]+'\\t'+name[:-2]+'\\n') #写入姓名和考号\n",
    "    f.close() #关闭文件\n",
    "    i += 1\n",
    "print(\"成功生成！\")"
   ]
  },
  {
   "cell_type": "code",
   "execution_count": 16,
   "id": "cb7ea6eb-4938-4237-80c4-93c3b518f132",
   "metadata": {},
   "outputs": [
    {
     "name": "stdout",
     "output_type": "stream",
     "text": [
      "the files in C:\\Users\\lenovo\\python practice will be renamed\n",
      "['python.txt', 'python文件与文件系统.ipynb', 'python模块和包.ipynb', 'python类.ipynb', 'python进阶话题.ipynb', 'python迭代器生成器装饰器.ipynb', 'python错误和异常.ipynb']\n"
     ]
    },
    {
     "name": "stdin",
     "output_type": "stream",
     "text": [
      "press y to continue\n",
      " y\n"
     ]
    },
    {
     "name": "stdout",
     "output_type": "stream",
     "text": [
      "['python.txt', 'python文件与文件系统.ipynb', 'python模块和包.ipynb', 'python类.ipynb', 'python进阶话题.ipynb', 'python迭代器生成器装饰器.ipynb', 'python错误和异常.ipynb']\n"
     ]
    }
   ],
   "source": [
    "import os\n",
    "perfix = 'Python' # perfix 为重命名后的文件起始字符\n",
    "length = 2 # length 为除去 perfix 后，文件名要达到的长度\n",
    "base = 1 # 文件名的起始数\n",
    "format = 'mdb' # 文件的后缀名\n",
    "\n",
    "# 函数 PadLeft 将文件名补全到指定长度\n",
    "# str 为要补全的字符\n",
    "# num 为要达到的长度\n",
    "# padstr 未达到长度所添加的字符\n",
    "def PadLeft(str , num , padstr):\n",
    "    stringlength = len (str)\n",
    "    n = num - stringlength\n",
    "    if n >=0 :\n",
    "        str=padstr * n + str\n",
    "    return str\n",
    "    \n",
    "# 为了避免误操作，这里先提示用户\n",
    "print('the files in %s will be renamed' % os.getcwd())\n",
    "all_files = os.listdir(os.getcwd())\n",
    "print([f for f in all_files if os.path.isfile(f)]) #输出当前目录下的所有文件名\n",
    "input = input('press y to continue\\n') # 获取用户输入\n",
    "if input.lower() != 'y': # 判断用户输入，以决定是否执行重命名操作\n",
    "    exit()\n",
    "    \n",
    "#os.curdir : 获得当前工作目录的字符串名称\n",
    "filenames = os.listdir(os.curdir) # 获得当前目录中的内容 \n",
    "\n",
    "# 基数减 1，为了下面 i = i + 1 在第一次执行时等于基数\n",
    "i = base - 1\n",
    "for filename in filenames: # 遍历目录中的内容，进行重命名操作\n",
    "    i = i+1\n",
    "    # 判断当前路径是否为文件，并且不是“rename.py”\n",
    "    if filename != \"rename.py\" and os.path.isfile(filename):\n",
    "        name = str(i) # 将 i 转换成字符\n",
    "        name = PadLeft(name,length,'0') # 将 name 补全到指定长度\n",
    "        t = filename.split('.') # 分割文件名，以检查其是否是所要修改的类型\n",
    "        m = len(t)\n",
    "        if format == '': # 如果未指定文件类型，则更改当前目录中的所有文件\n",
    "            os.rename(filename,perfix+name+'.'+t[m-1])\n",
    "        else: # 否则只修改指定类型\n",
    "            if t[m-1] == format:\n",
    "                os.rename(filename,perfix+name+'.'+t[m-1])\n",
    "            else:\n",
    "                i = i - 1 # 保证 i 连续\n",
    "    else:\n",
    "        i = i - 1 # 保证 i 连续\n",
    "all_files = os.listdir(os.getcwd())\n",
    "print([f for f in all_files if os.path.isfile(f)]) #输出当前目录下所有文件名"
   ]
  },
  {
   "cell_type": "code",
   "execution_count": null,
   "id": "9bef32a8-f7cf-4ab4-b8c1-813e8243a85f",
   "metadata": {},
   "outputs": [],
   "source": []
  }
 ],
 "metadata": {
  "kernelspec": {
   "display_name": "Python 3 (ipykernel)",
   "language": "python",
   "name": "python3"
  },
  "language_info": {
   "codemirror_mode": {
    "name": "ipython",
    "version": 3
   },
   "file_extension": ".py",
   "mimetype": "text/x-python",
   "name": "python",
   "nbconvert_exporter": "python",
   "pygments_lexer": "ipython3",
   "version": "3.12.4"
  }
 },
 "nbformat": 4,
 "nbformat_minor": 5
}
