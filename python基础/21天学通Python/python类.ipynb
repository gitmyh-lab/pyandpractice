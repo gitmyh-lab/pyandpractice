{
 "cells": [
  {
   "cell_type": "code",
   "execution_count": 1,
   "id": "779314df-71d5-4e8c-a36b-316f36af7fb9",
   "metadata": {},
   "outputs": [],
   "source": [
    "class MyClass:\n",
    " pass"
   ]
  },
  {
   "cell_type": "code",
   "execution_count": 2,
   "id": "d09d8022-06d5-4b8d-a696-bb264490761d",
   "metadata": {},
   "outputs": [
    {
     "data": {
      "text/plain": [
       "['__class__',\n",
       " '__delattr__',\n",
       " '__dict__',\n",
       " '__dir__',\n",
       " '__doc__',\n",
       " '__eq__',\n",
       " '__format__',\n",
       " '__ge__',\n",
       " '__getattribute__',\n",
       " '__getstate__',\n",
       " '__gt__',\n",
       " '__hash__',\n",
       " '__init__',\n",
       " '__init_subclass__',\n",
       " '__le__',\n",
       " '__lt__',\n",
       " '__module__',\n",
       " '__ne__',\n",
       " '__new__',\n",
       " '__reduce__',\n",
       " '__reduce_ex__',\n",
       " '__repr__',\n",
       " '__setattr__',\n",
       " '__sizeof__',\n",
       " '__str__',\n",
       " '__subclasshook__',\n",
       " '__weakref__']"
      ]
     },
     "execution_count": 2,
     "metadata": {},
     "output_type": "execute_result"
    }
   ],
   "source": [
    "# 默认从 object 继承来的属性与方法\n",
    "dir(MyClass)"
   ]
  },
  {
   "cell_type": "code",
   "execution_count": 3,
   "id": "175ba4bf-96df-41ac-8e4d-3dbbb9123d54",
   "metadata": {},
   "outputs": [
    {
     "name": "stdout",
     "output_type": "stream",
     "text": [
      "输出类说明：\n",
      "MyClass help.\n",
      "显示类帮助信息：\n",
      "Help on MyClass in module __main__ object:\n",
      "\n",
      "class MyClass(builtins.object)\n",
      " |  MyClass help.\n",
      " |\n",
      " |  Data descriptors defined here:\n",
      " |\n",
      " |  __dict__\n",
      " |      dictionary for instance variables\n",
      " |\n",
      " |  __weakref__\n",
      " |      list of weak references to the object\n",
      "\n"
     ]
    }
   ],
   "source": [
    "class MyClass: #定义一个类\n",
    " \"MyClass help.\" #该类只有一个说明信息，没有具体语句\n",
    " \n",
    "myclass = MyClass() #将自定义类 MyClass 实例化，名称为 myclass\n",
    "print('输出类说明：')\n",
    "print(myclass.__doc__) #输出类实例 myclass 的属性__doc__的值\n",
    "print('显示类帮助信息：')\n",
    "help(myclass) #输出类的帮助信息"
   ]
  },
  {
   "cell_type": "code",
   "execution_count": 1,
   "id": "18db95ab-d2f8-4ee2-98ac-312307898955",
   "metadata": {},
   "outputs": [
    {
     "name": "stdout",
     "output_type": "stream",
     "text": [
      "调用info方法的结果：\n",
      "我定义的类\n",
      "调用mycacl方法的结果：\n",
      "7\n"
     ]
    }
   ],
   "source": [
    "class SimplClass:\n",
    "    def info(self):\n",
    "        print('我定义的类')\n",
    "    def mycacl(self,x,y):\n",
    "        return x+y\n",
    "\n",
    "sc = SimplClass()\n",
    "print('调用info方法的结果：')\n",
    "sc.info()\n",
    "print('调用mycacl方法的结果：')\n",
    "print(sc.mycacl(3,4))\n"
   ]
  },
  {
   "cell_type": "code",
   "execution_count": 2,
   "id": "5fc501bf-7930-4891-a665-80dd968103ac",
   "metadata": {},
   "outputs": [
    {
     "name": "stdout",
     "output_type": "stream",
     "text": [
      "调用mycacl方法的结果2：\n",
      "10\n"
     ]
    }
   ],
   "source": [
    "class DemoInit:\n",
    "    def __init__(self,x,y=0):\n",
    "        self.x = x\n",
    "        self.y = y\n",
    "    def mycacl(self):\n",
    "        return self.x+self.y\n",
    "\n",
    "dia = DemoInit(3,7)\n",
    "print('调用mycacl方法的结果2：')\n",
    "print(dia.mycacl())"
   ]
  },
  {
   "cell_type": "code",
   "execution_count": 4,
   "id": "8ed02bcc-6c0f-474f-893c-e7d5d48befa5",
   "metadata": {},
   "outputs": [
    {
     "name": "stdout",
     "output_type": "stream",
     "text": [
      "当前位置：（0,0）\n",
      "当前位置：（2,4）\n",
      "当前位置：（11,10）\n"
     ]
    }
   ],
   "source": [
    "def coord_chng(x,y):\n",
    "    return (abs(x),abs(y))\n",
    "\n",
    "class Ant:\n",
    "    def __init__(self,x=0,y=0):\n",
    "        self.x = x\n",
    "        self.y = y\n",
    "        self.disp_point()\n",
    "    def move(self,x,y):\n",
    "        x,y = coord_chng(x,y)\n",
    "        self.edit_point(x,y)\n",
    "        self.disp_point()\n",
    "    def edit_point(self,x,y):\n",
    "        self.x += x\n",
    "        self.y += y\n",
    "    def disp_point(self):\n",
    "        print('当前位置：（%d,%d）' % (self.x,self.y))\n",
    "\n",
    "ant_a = Ant()\n",
    "ant_a.move(2,4)\n",
    "ant_a.move(-9,6)"
   ]
  },
  {
   "cell_type": "code",
   "execution_count": 13,
   "id": "08549d32-f11b-4602-b3b1-93325a098a18",
   "metadata": {},
   "outputs": [
    {
     "name": "stdout",
     "output_type": "stream",
     "text": [
      "初始化两个实例：\n",
      "类变量值： Demo_Property\n",
      "实例变量值： 0\n",
      "类变量值： Demo_Property\n",
      "实例变量值： 0\n",
      "修改实例变量：\n",
      "修改dpa变量：\n",
      "类变量值： Demo_Property\n",
      "实例变量值： 10\n",
      "类变量值： Demo_Property\n",
      "实例变量值： 0\n",
      "修改dpb变量：\n",
      "类变量值： Demo_Property\n",
      "实例变量值： 10\n",
      "类变量值： Demo_Property\n",
      "实例变量值： 10\n",
      "修改类变量：\n",
      "修改dpa变量：\n",
      "类变量值： dpa\n",
      "实例变量值： 10\n",
      "类变量值： dpa\n",
      "实例变量值： 10\n",
      "修改dpb变量：\n",
      "类变量值： dpb\n",
      "实例变量值： 10\n",
      "类变量值： dpb\n",
      "实例变量值： 10\n"
     ]
    }
   ],
   "source": [
    "class Demo_Property:\n",
    "    class_name = 'Demo_Property' #类属性\n",
    "    def __init__(self,x=0):\n",
    "        self.x = x #实例属性\n",
    "    def class_info(self):\n",
    "        print('类变量值：',Demo_Property.class_name)\n",
    "        print('实例变量值：',self.x)\n",
    "    def chng(self,x):\n",
    "        self.x = x\n",
    "    def chng_cn(self,name):\n",
    "        Demo_Property.class_name = name\n",
    "\n",
    "dpa = Demo_Property()\n",
    "dpb = Demo_Property()\n",
    "print('初始化两个实例：')\n",
    "dpa.class_info()\n",
    "dpb.class_info()\n",
    "print('修改实例变量：')\n",
    "print('修改dpa变量：')\n",
    "dpa.chng(10)\n",
    "dpa.class_info()\n",
    "dpb.class_info()\n",
    "print('修改dpb变量：')\n",
    "dpb.chng(10)\n",
    "dpa.class_info()\n",
    "dpb.class_info()\n",
    "print('修改类变量：')\n",
    "print('修改dpa变量：')\n",
    "dpa.chng_cn('dpa')\n",
    "dpa.class_info()\n",
    "dpb.class_info()\n",
    "print('修改dpb变量：')\n",
    "dpb.chng_cn('dpb')\n",
    "dpa.class_info()\n",
    "dpb.class_info()"
   ]
  },
  {
   "cell_type": "code",
   "execution_count": 15,
   "id": "007f24ca-2fbb-4c2d-809a-df7c45c25f7f",
   "metadata": {},
   "outputs": [
    {
     "name": "stdout",
     "output_type": "stream",
     "text": [
      "调用了静态方法！\n",
      "调用了类方法！\n",
      "调用了静态方法！\n",
      "调用了类方法！\n"
     ]
    }
   ],
   "source": [
    "class DemoMthd:\n",
    "    @staticmethod # 静态方法装饰器\n",
    "    def static_mthd():\n",
    "        print('调用了静态方法！')\n",
    "    @classmethod #类方法装饰器\n",
    "    def class_mthd(cls):\n",
    "        print('调用了类方法！')\n",
    "\n",
    "# 未实例化\n",
    "DemoMthd.static_mthd()\n",
    "DemoMthd.class_mthd()\n",
    "# 实例化\n",
    "dm = DemoMthd()\n",
    "dm.static_mthd()\n",
    "dm.class_mthd()"
   ]
  },
  {
   "cell_type": "code",
   "execution_count": 25,
   "id": "253d7464-a248-4070-a9c4-0e619fba3629",
   "metadata": {},
   "outputs": [
    {
     "name": "stdout",
     "output_type": "stream",
     "text": [
      "爬行...\n",
      "当前位置：(3,5)\n",
      "飞行...\n",
      "当前位置：(10,14)\n",
      "用尾针！\n"
     ]
    }
   ],
   "source": [
    "class Ant:\n",
    "    def __init__(self,x=0,y=0,color='black'):\n",
    "        self.x = x\n",
    "        self.y = y\n",
    "        self.color = color\n",
    "    def crawl(self,x,y):\n",
    "        self.x = x\n",
    "        self.y = y\n",
    "        print('爬行...')\n",
    "        self.info()\n",
    "    def info(self):\n",
    "        print('当前位置：(%d,%d)' % (self.x,self.y))\n",
    "    def attack(self):\n",
    "        print('用嘴咬！')\n",
    "\n",
    "class FlyAnt(Ant):\n",
    "    def attack(self):\n",
    "        print('用尾针！') #修改行为\n",
    "    def fly(self,x,y):\n",
    "        print('飞行...')\n",
    "        self.x = x\n",
    "        self.y = y\n",
    "        self.info()\n",
    "\n",
    "flyant = FlyAnt(color = 'red')\n",
    "flyant.crawl(3,5)\n",
    "flyant.fly(10,14)\n",
    "flyant.attack()"
   ]
  },
  {
   "cell_type": "code",
   "execution_count": 23,
   "id": "f2dd3cd2-36e0-41b6-b627-d8f2977d56e4",
   "metadata": {},
   "outputs": [
    {
     "name": "stdout",
     "output_type": "stream",
     "text": [
      "PrntA:PrntA,aaaa\n",
      "PrntA:PrntA,aaaa\n",
      "PrntB:PrntB\n",
      "PrntB:PrntB\n",
      "PrntA:PrntA,aaa\n",
      "PrntB:PrntB\n"
     ]
    }
   ],
   "source": [
    "# 多重继承\n",
    "class PrntA:\n",
    "    namea = 'PrntA'\n",
    "    def set_value(self,a):\n",
    "        self.a = a\n",
    "    def set_namea(self,namea):\n",
    "        PrntA.namea = namea\n",
    "    def info(self):\n",
    "        print('PrntA:%s,%s' % (PrntA.namea,self.a))\n",
    "\n",
    "class PrntB:\n",
    "    nameb = 'PrntB'\n",
    "    def set_nameb(self,nameb):\n",
    "        PrntA.nameb = nameb\n",
    "    def info(self):\n",
    "        print('PrntB:%s' % (PrntB.nameb,))\n",
    "\n",
    "class Sub(PrntA,PrntB):\n",
    "    pass\n",
    "\n",
    "class Sub2(PrntB,PrntA):\n",
    "    pass\n",
    "\n",
    "class Sub3(PrntA,PrntB):\n",
    "    def info(self):\n",
    "        PrntA.info(self)\n",
    "        PrntB.info(self)\n",
    "\n",
    "sub = Sub()\n",
    "sub.set_value('aaaa')\n",
    "sub.info()\n",
    "sub.set_nameb('bbbb')\n",
    "sub.info()\n",
    "\n",
    "sub2 = Sub2()\n",
    "sub2.set_value('aaa')\n",
    "sub2.info()\n",
    "sub2.set_nameb('bbb')\n",
    "sub2.info()\n",
    "\n",
    "sub3 = Sub3()\n",
    "sub3.set_value('aaa')\n",
    "sub3.set_nameb('bbb')\n",
    "sub3.info()"
   ]
  },
  {
   "cell_type": "code",
   "execution_count": 27,
   "id": "f76db8a5-a5e8-478a-83cd-fdff0fb2f82f",
   "metadata": {},
   "outputs": [],
   "source": [
    "# 练习\n",
    "class Spirit:\n",
    "    def __init__(self,weight,color,hight,enov):\n",
    "        self.weight = weight\n",
    "        self.color = color\n",
    "        self.hight = hight\n",
    "        self.enov = enov\n",
    "    def walk(self,length,alpha):\n",
    "        self.enov -= length*alpha\n",
    "    def jump(self,length,beta):\n",
    "        self.enov -= length*beta\n",
    "    def eat(self,food,gammar):\n",
    "        self.enov -= food*gammar\n",
    "\n",
    "class FinalAnt(FlyAnt):\n",
    "    def jump(self,x,y):\n",
    "        print('飞行...')\n",
    "        self.x = x\n",
    "        self.y = y\n",
    "        self.info()\n",
    "    def attack(self):\n",
    "        print('用身子！')"
   ]
  },
  {
   "cell_type": "code",
   "execution_count": null,
   "id": "c11fa0fd-7e11-41eb-8bb4-5ebb931bb8d8",
   "metadata": {},
   "outputs": [],
   "source": []
  }
 ],
 "metadata": {
  "kernelspec": {
   "display_name": "Python 3 (ipykernel)",
   "language": "python",
   "name": "python3"
  },
  "language_info": {
   "codemirror_mode": {
    "name": "ipython",
    "version": 3
   },
   "file_extension": ".py",
   "mimetype": "text/x-python",
   "name": "python",
   "nbconvert_exporter": "python",
   "pygments_lexer": "ipython3",
   "version": "3.12.4"
  }
 },
 "nbformat": 4,
 "nbformat_minor": 5
}
