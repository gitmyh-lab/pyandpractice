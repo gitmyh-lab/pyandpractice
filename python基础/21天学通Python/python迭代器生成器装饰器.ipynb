{
 "cells": [
  {
   "cell_type": "code",
   "execution_count": 1,
   "id": "e443c22f-8489-41c9-94f3-6a94eebb8aa5",
   "metadata": {},
   "outputs": [
    {
     "name": "stdout",
     "output_type": "stream",
     "text": [
      "迭代的数据元素为： 4\n",
      "迭代的数据元素为： 8\n",
      "迭代的数据元素为： 16\n",
      "迭代的数据元素为： 32\n",
      "迭代的数据元素为： 64\n"
     ]
    }
   ],
   "source": [
    "# 自定义迭代器\n",
    "class MyIterator:\n",
    "    def __init__(self,x=2,xmax=100):\n",
    "        self.__mul,self.__x = x,x\n",
    "        self.__xmax = xmax\n",
    "    def __iter__(self): #定义迭代器协议方法，返回类自身\n",
    "        return self\n",
    "    def __next__(self): #定义迭代器协议方法\n",
    "        if self.__x and self.__x != 1:\n",
    "            self.__mul *= self.__x\n",
    "            if self.__mul <= self.__xmax:\n",
    "                return self.__mul\n",
    "            else:\n",
    "                raise StopIteration\n",
    "        else:\n",
    "            raise StopIteration\n",
    "\n",
    "myiter = MyIterator()\n",
    "for i in myiter:\n",
    "    print('迭代的数据元素为：',i)"
   ]
  },
  {
   "cell_type": "code",
   "execution_count": 2,
   "id": "fa226589-0f08-415c-abc4-cdac160e664b",
   "metadata": {},
   "outputs": [
    {
     "name": "stdout",
     "output_type": "stream",
     "text": [
      "本次遍历的数值： 2\n",
      "本次遍历的数值： 4\n",
      "本次遍历的数值： 6\n"
     ]
    }
   ],
   "source": [
    "# 内建迭代器函数iter()\n",
    "class Counter:\n",
    "    def __init__(self,x=0):\n",
    "        self.x = x\n",
    "\n",
    "counter = Counter()\n",
    "def used_iter():\n",
    "    counter.x += 2\n",
    "    return counter.x\n",
    "\n",
    "for i in iter(used_iter,8): #到8停止\n",
    "    print('本次遍历的数值：',i)"
   ]
  },
  {
   "cell_type": "code",
   "execution_count": 3,
   "id": "f535bebb-8fd2-4655-98f9-237ddcf3f981",
   "metadata": {},
   "outputs": [
    {
     "name": "stdout",
     "output_type": "stream",
     "text": [
      "1\n",
      "4\n",
      "7\n",
      "10\n"
     ]
    }
   ],
   "source": [
    "import itertools\n",
    "for i in itertools.count(1,3): # 1开始 步数3\n",
    "    print(i)\n",
    "    if i >= 10:\n",
    "        break"
   ]
  },
  {
   "cell_type": "code",
   "execution_count": 4,
   "id": "914699d0-3723-486c-8468-eec842139724",
   "metadata": {},
   "outputs": [
    {
     "name": "stdout",
     "output_type": "stream",
     "text": [
      "a\n",
      "b\n",
      "a\n",
      "b\n",
      "a\n",
      "b\n"
     ]
    }
   ],
   "source": [
    "x = 0\n",
    "for i in itertools.cycle(['a','b']):\n",
    "    print(i)\n",
    "    x += 1\n",
    "    if x>= 6:\n",
    "        break"
   ]
  },
  {
   "cell_type": "code",
   "execution_count": 6,
   "id": "344051d5-fd5a-404e-9011-a1cc9c42643b",
   "metadata": {},
   "outputs": [
    {
     "data": {
      "text/plain": [
       "[3, 3, 3]"
      ]
     },
     "execution_count": 6,
     "metadata": {},
     "output_type": "execute_result"
    }
   ],
   "source": [
    "list(itertools.repeat(3,3))"
   ]
  },
  {
   "cell_type": "code",
   "execution_count": 8,
   "id": "1a4351f3-2df6-4f19-9001-fca09e1739e6",
   "metadata": {},
   "outputs": [
    {
     "data": {
      "text/plain": [
       "[1, 3, 2, 3]"
      ]
     },
     "execution_count": 8,
     "metadata": {},
     "output_type": "execute_result"
    }
   ],
   "source": [
    "list(itertools.chain([1,3],[2,3]))"
   ]
  },
  {
   "cell_type": "code",
   "execution_count": 9,
   "id": "70708244-55b0-48e9-940b-89d0d49faeec",
   "metadata": {},
   "outputs": [
    {
     "data": {
      "text/plain": [
       "[1, 3, 4]"
      ]
     },
     "execution_count": 9,
     "metadata": {},
     "output_type": "execute_result"
    }
   ],
   "source": [
    "list(itertools.compress([1,2,3,4],[1,[],True,3])) #依据后面选择前面"
   ]
  },
  {
   "cell_type": "code",
   "execution_count": 10,
   "id": "fd92b97a-21f0-44b1-a64e-bb1a6285e281",
   "metadata": {},
   "outputs": [
    {
     "data": {
      "text/plain": [
       "[1, 2, 8, 9]"
      ]
     },
     "execution_count": 10,
     "metadata": {},
     "output_type": "execute_result"
    }
   ],
   "source": [
    "list(itertools.dropwhile(lambda x:x>6, [8,9,1,2,8,9])) #后面为假时后面开始迭代"
   ]
  },
  {
   "cell_type": "code",
   "execution_count": 11,
   "id": "bd87e2ee-6988-43f3-b594-026373a04e20",
   "metadata": {},
   "outputs": [
    {
     "data": {
      "text/plain": [
       "[18, 19]"
      ]
     },
     "execution_count": 11,
     "metadata": {},
     "output_type": "execute_result"
    }
   ],
   "source": [
    "list(itertools.takewhile(lambda x:x>10, [18,19,1,21,8,9]))"
   ]
  },
  {
   "cell_type": "code",
   "execution_count": 12,
   "id": "8f458f54-22b9-4c36-a02d-9309c395784f",
   "metadata": {},
   "outputs": [
    {
     "name": "stdout",
     "output_type": "stream",
     "text": [
      "0\n",
      "1\n",
      "0\n",
      "1\n"
     ]
    }
   ],
   "source": [
    "for its in itertools.tee([0,1],2):\n",
    "    for it in its:\n",
    "        print(it)"
   ]
  },
  {
   "cell_type": "code",
   "execution_count": 14,
   "id": "9da61e55-7f10-4ea4-bf76-1969a970b218",
   "metadata": {},
   "outputs": [
    {
     "data": {
      "text/plain": [
       "[('a', 'b'), ('a', 'c'), ('b', 'a'), ('b', 'c'), ('c', 'a'), ('c', 'b')]"
      ]
     },
     "execution_count": 14,
     "metadata": {},
     "output_type": "execute_result"
    }
   ],
   "source": [
    "list(itertools.permutations('abc',2))"
   ]
  },
  {
   "cell_type": "code",
   "execution_count": 15,
   "id": "7e1e0a3b-ce71-4192-81d9-69779dcffff4",
   "metadata": {},
   "outputs": [
    {
     "data": {
      "text/plain": [
       "[('a', 'b'), ('a', 'c'), ('b', 'c')]"
      ]
     },
     "execution_count": 15,
     "metadata": {},
     "output_type": "execute_result"
    }
   ],
   "source": [
    "list(itertools.combinations('abc',2))"
   ]
  },
  {
   "cell_type": "code",
   "execution_count": 18,
   "id": "4ff3c2d5-41e0-488a-bca6-7c8ea2e97d22",
   "metadata": {},
   "outputs": [
    {
     "name": "stdout",
     "output_type": "stream",
     "text": [
      "开始生成...:\n",
      "遍历得到的值： 4\n",
      "完成一次...:\n",
      "开始生成...:\n",
      "遍历得到的值： 3\n",
      "完成一次...:\n",
      "开始生成...:\n",
      "遍历得到的值： 2\n",
      "完成一次...:\n",
      "开始生成...:\n",
      "遍历得到的值： 1\n",
      "完成一次...:\n",
      "\n",
      "已经实例化生成器对象\n",
      "开始生成...:\n",
      "第二次调用__next__()方法：\n",
      "完成一次...:\n",
      "开始生成...:\n"
     ]
    },
    {
     "data": {
      "text/plain": [
       "2"
      ]
     },
     "execution_count": 18,
     "metadata": {},
     "output_type": "execute_result"
    }
   ],
   "source": [
    "#生成器\n",
    "def myYield(n):\n",
    "    while n>0:\n",
    "        print('开始生成...:')\n",
    "        yield n\n",
    "        print('完成一次...:')\n",
    "        n -= 1\n",
    "\n",
    "for i in myYield(4):\n",
    "    print('遍历得到的值：',i)\n",
    "print()\n",
    "my_yield = myYield(3)\n",
    "print('已经实例化生成器对象')\n",
    "my_yield.__next__()\n",
    "print('第二次调用__next__()方法：')\n",
    "my_yield.__next__()"
   ]
  },
  {
   "cell_type": "code",
   "execution_count": 20,
   "id": "fc2ff419-4718-4bc0-9bb1-3e5fde7df5fc",
   "metadata": {},
   "outputs": [
    {
     "name": "stdout",
     "output_type": "stream",
     "text": [
      "3\n",
      "2\n",
      "传给生成器一个值，重新初始化生成器。\n",
      "10\n",
      "9\n"
     ]
    }
   ],
   "source": [
    "def myYield(n):\n",
    "    while n>0:\n",
    "        rcv = yield n #rcv用来接收调用者传来的值\n",
    "        n -= 1\n",
    "        if rcv is not None:\n",
    "            n = rcv\n",
    "\n",
    "my_yield = myYield(3)\n",
    "print(my_yield.__next__())\n",
    "print(my_yield.__next__())\n",
    "print('传给生成器一个值，重新初始化生成器。')\n",
    "print(my_yield.send(10)) #协程：重置生成器序列\n",
    "print(my_yield.__next__())"
   ]
  },
  {
   "cell_type": "code",
   "execution_count": 21,
   "id": "dab21e13-69cb-418f-97de-e4a2ff8d66ab",
   "metadata": {},
   "outputs": [
    {
     "name": "stdout",
     "output_type": "stream",
     "text": [
      "<generator object <genexpr> at 0x000001B530D0ED40>\n",
      "<class 'generator'>\n",
      "[0, 1, 2, 3, 4]\n"
     ]
    }
   ],
   "source": [
    "a = (i for i in range(5))\n",
    "print(a)\n",
    "print(type(a))\n",
    "print(list(a))"
   ]
  },
  {
   "cell_type": "code",
   "execution_count": 26,
   "id": "6cba2c23-3c14-4cd7-9700-0f43cbb9285b",
   "metadata": {},
   "outputs": [
    {
     "name": "stdout",
     "output_type": "stream",
     "text": [
      "等待接收处理任务...\n",
      "发送一个任务... 任务0\n",
      "收到任务： 任务0\n",
      "发送一个任务... 任务1\n",
      "收到任务： 任务1\n",
      "发送一个任务... 任务2\n",
      "收到任务： 任务2\n"
     ]
    }
   ],
   "source": [
    "def consumer(): #消费者模型\n",
    "    print('等待接收处理任务...')\n",
    "    while True:\n",
    "        data = (yield)\n",
    "        print('收到任务：',data)\n",
    "\n",
    "def producer():\n",
    "    c = consumer()\n",
    "    c.__next__()\n",
    "    for i in range(3):\n",
    "        print('发送一个任务...','任务%d' % i)\n",
    "        c.send('任务%d' % i)\n",
    "\n",
    "producer()"
   ]
  },
  {
   "cell_type": "code",
   "execution_count": null,
   "id": "d7096041-092b-4c21-a873-de3bfc1ded13",
   "metadata": {},
   "outputs": [],
   "source": [
    "# 装饰器\n",
    "@disp_run_time\n",
    "def decorated_fun():\n",
    "    pass"
   ]
  },
  {
   "cell_type": "code",
   "execution_count": null,
   "id": "0c1e5371-d3cc-4a03-9c12-1f0bc7c5edb3",
   "metadata": {},
   "outputs": [],
   "source": [
    "# 定义装饰器函数\n",
    "def demo_decorater(fun): #定义装饰器函数（参数为 fun，可所受函数对象）\n",
    "    def new_fun(*args,**kwargs): #新定义一个包装器函数用于返回\n",
    "        pass\n",
    "        fun(*args,**kwargs) #包装器函数中调用被装饰的函数\n",
    "        pass\n",
    " return new_fun #返回包装器函数"
   ]
  },
  {
   "cell_type": "code",
   "execution_count": 28,
   "id": "144c6532-d0d3-43ff-8c02-17dc66dda145",
   "metadata": {},
   "outputs": [
    {
     "name": "stdout",
     "output_type": "stream",
     "text": [
      "\n"
     ]
    },
    {
     "ename": "TypeError",
     "evalue": "'NoneType' object is not callable",
     "output_type": "error",
     "traceback": [
      "\u001b[1;31m----------------------------------------------------------------\u001b[0m",
      "\u001b[1;31mTypeError\u001b[0m                      Traceback (most recent call last)",
      "Cell \u001b[1;32mIn[28], line 21\u001b[0m\n\u001b[0;32m     19\u001b[0m \u001b[38;5;66;03m# demo_decoration(5) #调用被装饰器装饰的函数\u001b[39;00m\n\u001b[0;32m     20\u001b[0m \u001b[38;5;28mprint\u001b[39m()\n\u001b[1;32m---> 21\u001b[0m hello(\u001b[38;5;124m'\u001b[39m\u001b[38;5;124mJohn\u001b[39m\u001b[38;5;124m'\u001b[39m)\n",
      "\u001b[1;31mTypeError\u001b[0m: 'NoneType' object is not callable"
     ]
    }
   ],
   "source": [
    "def abc(fun): #定义一个装饰器 abc\n",
    "    def wrapper(*args,**kwargs): #定义包装器函数\n",
    "        print('开始运行...')\n",
    "        fun(*args,**kwargs) #调用被装饰函数\n",
    "        print('运行结束！')\n",
    "        return wrapper #返回包装器函数\n",
    "        \n",
    "@abc #装饰函数语句\n",
    "def demo_decoration(x): #定义普通函数，被装饰器装饰\n",
    "    a = []\n",
    "    for i in range(x):\n",
    "        a.append(i)\n",
    "    print(a)\n",
    "    \n",
    "@abc\n",
    "def hello(name): #定义普通函数（被装饰器装饰）\n",
    "    print('Hello ',name)\n",
    " \n",
    "demo_decoration(5) #调用被装饰器装饰的函数\n",
    "print()\n",
    "hello('John') #调用被装饰器装饰的函数"
   ]
  },
  {
   "cell_type": "code",
   "execution_count": null,
   "id": "567e5c54-78fd-4db8-a2bb-ebcf3147b470",
   "metadata": {},
   "outputs": [],
   "source": [
    "# 带参数的装饰器\n",
    "def abc(action):\n",
    "    def mabc(fun):\n",
    "        def wrapper(*args,**kwargs):\n",
    "            print('开始运行...',action)\n",
    "            fun(*args,**kwargs)\n",
    "            print('运行结束！',action)\n",
    "        return wrapper\n",
    "    return mabc"
   ]
  },
  {
   "cell_type": "code",
   "execution_count": 36,
   "id": "af51b91e-3ef9-4307-9c75-e3eff0a22c8a",
   "metadata": {},
   "outputs": [
    {
     "name": "stdout",
     "output_type": "stream",
     "text": [
      "x axis: 0\n",
      "y axis: 0\n",
      "z axis: 0\n"
     ]
    }
   ],
   "source": [
    "# 类装饰器\n",
    "def abc(myclass): #定义类装饰器\n",
    "    class InnerClass: #定义内嵌类\n",
    "        def __init__(self,z=0):\n",
    "            self.z = 0\n",
    "            self.wrapper = myclass() #实例化被装饰的类\n",
    "        def position(self):\n",
    "            self.wrapper.position()\n",
    "            print('z axis:',self.z)\n",
    "    return InnerClass #返回新定义的类\n",
    "    \n",
    "@abc #应用装饰器\n",
    "class coordination: #定义普通的类\n",
    "    def __init__(self,x=0,y=0):\n",
    "        self.x = x\n",
    "        self.y = y\n",
    "    def position(self):\n",
    "        print('x axis:',self.x)\n",
    "        print('y axis:',self.y)\n",
    "\n",
    "coor = coordination() #实例化被装饰的类\n",
    "coor.position() #调用方法 position()"
   ]
  },
  {
   "cell_type": "code",
   "execution_count": null,
   "id": "24e4a44f-043f-4ae2-8108-0c1f843c3e1b",
   "metadata": {},
   "outputs": [],
   "source": []
  },
  {
   "cell_type": "code",
   "execution_count": null,
   "id": "79607a35-91b8-478f-a5c1-3fe39631d3b3",
   "metadata": {},
   "outputs": [],
   "source": []
  }
 ],
 "metadata": {
  "kernelspec": {
   "display_name": "Python 3 (ipykernel)",
   "language": "python",
   "name": "python3"
  },
  "language_info": {
   "codemirror_mode": {
    "name": "ipython",
    "version": 3
   },
   "file_extension": ".py",
   "mimetype": "text/x-python",
   "name": "python",
   "nbconvert_exporter": "python",
   "pygments_lexer": "ipython3",
   "version": "3.12.4"
  }
 },
 "nbformat": 4,
 "nbformat_minor": 5
}
