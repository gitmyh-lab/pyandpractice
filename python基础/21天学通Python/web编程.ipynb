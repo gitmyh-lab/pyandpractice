{
 "cells": [
  {
   "cell_type": "code",
   "execution_count": 5,
   "id": "70e8be77-8481-4570-93e7-9cfe5d5253b0",
   "metadata": {},
   "outputs": [
    {
     "name": "stdout",
     "output_type": "stream",
     "text": [
      " * Serving Flask app '__main__'\n",
      " * Debug mode: off\n"
     ]
    },
    {
     "name": "stderr",
     "output_type": "stream",
     "text": [
      "WARNING: This is a development server. Do not use it in a production deployment. Use a production WSGI server instead.\n",
      " * Running on http://127.0.0.1:5000\n",
      "Press CTRL+C to quit\n",
      "127.0.0.1 - - [29/Sep/2024 14:50:36] \"GET / HTTP/1.1\" 200 -\n",
      "127.0.0.1 - - [29/Sep/2024 14:50:36] \"GET /favicon.ico HTTP/1.1\" 404 -\n",
      "127.0.0.1 - - [29/Sep/2024 14:50:47] \"GET / HTTP/1.1\" 200 -\n",
      "127.0.0.1 - - [29/Sep/2024 14:50:54] \"GET / HTTP/1.1\" 200 -\n",
      "127.0.0.1 - - [29/Sep/2024 14:50:56] \"GET /favicon.ico HTTP/1.1\" 404 -\n"
     ]
    }
   ],
   "source": [
    "#使用 Flask 框架建立的一个最简单的 Web 程序\n",
    "import flask #导入 flask\n",
    "app = flask.Flask(__name__) #实例化主类 Flask\n",
    "@app.route('/') #装饰器（实现 URL 地址）\n",
    "def helo(): #定义业务函数\n",
    "    return '你好，我是 Flask!' #返回字符串\n",
    "\n",
    "app.run() #运行程序"
   ]
  },
  {
   "cell_type": "code",
   "execution_count": 8,
   "id": "1cff0167-93cf-4732-97b7-1b8f097fa94b",
   "metadata": {},
   "outputs": [
    {
     "name": "stdout",
     "output_type": "stream",
     "text": [
      " * Serving Flask app '__main__'\n",
      " * Debug mode: off\n"
     ]
    },
    {
     "name": "stderr",
     "output_type": "stream",
     "text": [
      "WARNING: This is a development server. Do not use it in a production deployment. Use a production WSGI server instead.\n",
      " * Running on http://127.0.0.1:5000\n",
      "Press CTRL+C to quit\n",
      "127.0.0.1 - - [29/Sep/2024 15:05:09] \"GET / HTTP/1.1\" 200 -\n",
      "127.0.0.1 - - [29/Sep/2024 15:05:14] \"GET / HTTP/1.1\" 200 -\n",
      "127.0.0.1 - - [29/Sep/2024 15:05:29] \"GET / HTTP/1.1\" 200 -\n",
      "127.0.0.1 - - [29/Sep/2024 15:05:36] \"GET /hello HTTP/1.1\" 200 -\n",
      "127.0.0.1 - - [29/Sep/2024 15:05:40] \"GET / HTTP/1.1\" 200 -\n"
     ]
    }
   ],
   "source": [
    "import flask #导入 flask\n",
    "app = flask.Flask(__name__) #实例化主类 Flask\n",
    "@app.route('/') #装饰器（实现 URL 地址）\n",
    "@app.route('/hello')\n",
    "def helo(): #定义业务函数\n",
    "    return '你好，我是 Flask!' #返回字符串\n",
    "\n",
    "app.run() #运行程序"
   ]
  },
  {
   "cell_type": "code",
   "execution_count": 11,
   "id": "26e3dfa2-aa2c-417f-aefe-0f1e64cb657c",
   "metadata": {},
   "outputs": [
    {
     "name": "stdout",
     "output_type": "stream",
     "text": [
      " * Serving Flask app '__main__'\n",
      " * Debug mode: off\n"
     ]
    },
    {
     "name": "stderr",
     "output_type": "stream",
     "text": [
      "WARNING: This is a development server. Do not use it in a production deployment. Use a production WSGI server instead.\n",
      " * Running on http://127.0.0.1:5000\n",
      "Press CTRL+C to quit\n",
      "127.0.0.1 - - [29/Sep/2024 15:09:52] \"GET / HTTP/1.1\" 404 -\n",
      "127.0.0.1 - - [29/Sep/2024 15:11:25] \"GET / HTTP/1.1\" 404 -\n",
      "127.0.0.1 - - [29/Sep/2024 15:11:34] \"GET /hellp HTTP/1.1\" 404 -\n",
      "127.0.0.1 - - [29/Sep/2024 15:11:39] \"GET /hello HTTP/1.1\" 200 -\n",
      "127.0.0.1 - - [29/Sep/2024 15:12:41] \"POST /hello HTTP/1.1\" 200 -\n"
     ]
    }
   ],
   "source": [
    "import flask #导入 flask\n",
    "#HTML 页面字符串（GET 请求的页面代码）\n",
    "html_txt = \"\"\" \n",
    "<!DOCTYPE html>\n",
    "<html>\n",
    "    <body>\n",
    "        <h2>收到 GET 请求</h2>\n",
    "        <form method='post'> #指明请求方法为 POST\n",
    "        <input type='submit' value='发送 POST 请求' />\n",
    "        </form>\n",
    "    </body>\n",
    "</html>\n",
    "\"\"\"\n",
    "app = flask.Flask(__name__) #实例化主类 Flask\n",
    "#以下装饰器说明 URL 为‘/hello’的请求，不论是‘GET’还是‘POST’方法，都映射到该函数\n",
    "@app.route('/hello',methods=['GET','POST'])\n",
    "def helo(): #定义业务函数\n",
    "    if flask.request.method == 'GET': #判断收到的请求是否为 GET\n",
    "        return html_txt #返回 GET 请求的页面内容\n",
    "    else: #否则收到的是 POST 请求\n",
    "        return '收到 POST 请求，我是 Flask! ' #返回 POST 请求的页面内容\n",
    "\n",
    "app.run() #运行程序"
   ]
  },
  {
   "cell_type": "code",
   "execution_count": 20,
   "id": "3e6fd0d4-4773-4a42-a520-05b2131d1e37",
   "metadata": {},
   "outputs": [
    {
     "name": "stdout",
     "output_type": "stream",
     "text": [
      " * Serving Flask app '__main__'\n",
      " * Debug mode: off\n"
     ]
    },
    {
     "name": "stderr",
     "output_type": "stream",
     "text": [
      "WARNING: This is a development server. Do not use it in a production deployment. Use a production WSGI server instead.\n",
      " * Running on http://127.0.0.1:5000\n",
      "Press CTRL+C to quit\n",
      "127.0.0.1 - - [29/Sep/2024 15:46:49] \"GET / HTTP/1.1\" 404 -\n",
      "127.0.0.1 - - [29/Sep/2024 15:47:01] \"GET /hello HTTP/1.1\" 404 -\n",
      "127.0.0.1 - - [29/Sep/2024 15:47:10] \"GET /hello/打包 HTTP/1.1\" 200 -\n"
     ]
    }
   ],
   "source": [
    "import flask #导入 flask\n",
    "app = flask.Flask(__name__) #实例化主类 Flask\n",
    "@app.route('/hello/<name>')\n",
    "def helo(name): #定义业务函数,列出参数 name\n",
    "    return \"你好,\" + name + '!' #返回请求的页面内容\n",
    "\n",
    "app.run() #运行程序"
   ]
  },
  {
   "cell_type": "code",
   "execution_count": 19,
   "id": "00c432fc-d153-439b-a654-24136e9248fe",
   "metadata": {},
   "outputs": [
    {
     "name": "stdout",
     "output_type": "stream",
     "text": [
      " * Serving Flask app '__main__'\n",
      " * Debug mode: on\n"
     ]
    },
    {
     "name": "stderr",
     "output_type": "stream",
     "text": [
      "WARNING: This is a development server. Do not use it in a production deployment. Use a production WSGI server instead.\n",
      " * Running on http://127.0.0.1:5000\n",
      "Press CTRL+C to quit\n",
      " * Restarting with watchdog (windowsapi)\n"
     ]
    },
    {
     "ename": "SystemExit",
     "evalue": "1",
     "output_type": "error",
     "traceback": [
      "An exception has occurred, use %tb to see the full traceback.\n",
      "\u001b[1;31mSystemExit\u001b[0m\u001b[1;31m:\u001b[0m 1\n"
     ]
    }
   ],
   "source": [
    "#获取 POST 请求参数\n",
    "# -*- encoding:utf-8 -*-\n",
    "import flask\n",
    "html_txt = \"\"\" \n",
    "<!DOCTYPE html>\n",
    "<html>\n",
    "    <body>\n",
    "        <h2>收到 GET 请求</h2>\n",
    "        <form method='post'>\n",
    "        <input type='text' name='name' placeholder='请输入你的姓名' />\n",
    "        <input type='submit' value='发送 POST 请求' />\n",
    "        </form>\n",
    "    </body>\n",
    "</html>\n",
    "\"\"\"\n",
    "app = flask.Flask(__name__)\n",
    "@app.route('/hello',methods=['GET','POST'])\n",
    "def helo():\n",
    "    if flask.request.method == 'GET':\n",
    "        return html_txt\n",
    "    else:\n",
    "        #获取参数 name 的值\n",
    "        #为'name' in flask.request.form 为 False 时，无论 and\n",
    "        #后表达式值为何种情况，结果为 False，所以只返回 False。\n",
    "        #如果'name' in flask.request.form 为\n",
    "        #True 时，整个逻辑运算结果就取决于第二个表达式的值，\n",
    "        #所以会返回 flask.request.form['name']的值\n",
    "        name = 'name' in flask.request.form and flask.request.form['name']\n",
    "        if name:\n",
    "            return '你是：' + name + '!'\n",
    "        else:\n",
    "            return '你没有输入姓名！'\n",
    "\n",
    "app.run(debug=True)\n",
    "#这段代码在jupyter notebook中报错，但是在pycharm中可以运行"
   ]
  },
  {
   "cell_type": "code",
   "execution_count": 21,
   "id": "2761252d-6701-41a9-82df-fd55bb38c137",
   "metadata": {},
   "outputs": [
    {
     "name": "stdout",
     "output_type": "stream",
     "text": [
      " * Serving Flask app '__main__'\n",
      " * Debug mode: on\n"
     ]
    },
    {
     "name": "stderr",
     "output_type": "stream",
     "text": [
      "WARNING: This is a development server. Do not use it in a production deployment. Use a production WSGI server instead.\n",
      " * Running on http://127.0.0.1:5000\n",
      "Press CTRL+C to quit\n",
      " * Restarting with watchdog (windowsapi)\n"
     ]
    },
    {
     "ename": "SystemExit",
     "evalue": "1",
     "output_type": "error",
     "traceback": [
      "An exception has occurred, use %tb to see the full traceback.\n",
      "\u001b[1;31mSystemExit\u001b[0m\u001b[1;31m:\u001b[0m 1\n"
     ]
    }
   ],
   "source": [
    "# -*- encoding:utf-8 -*-\n",
    "import flask\n",
    "html_txt = \"\"\" #定义设置 cookie 页面内容\n",
    "<!DOCTYPE html>\n",
    "<html>\n",
    "    <body>\n",
    "        <h2>收到 GET 请求</h2>\n",
    "        <a href='/get_info'>获取 cookie 信息</a>\n",
    "    </body>\n",
    "</html>\n",
    "\"\"\"\n",
    "app = flask.Flask(__name__)\n",
    "@app.route('/set_info/<name>') #从 URL 中获取参数 URL 装饰器\n",
    "def set_cks(name):\n",
    "    name = name if name else 'anonymous'\n",
    "    #resp = make_response(content) #content 返回页面内容\n",
    "    resp = flask.make_response(html_txt) #构造响应对象\n",
    "    resp.set_cookie('name',name) #设置 cookie\n",
    "    return resp\n",
    "    \n",
    "@app.route('/get_info')\n",
    "def get_cks():\n",
    "    name = flask.request.cookies.get('name')#获取 cookie 信息\n",
    "    return '获取的 cookie 信息是:' + name #返回带 cookie 信息的页面内容\n",
    "\n",
    "app.run(debug=True)\n",
    "#这段代码在jupyter notebook中报错，但是在pycharm中可以运行"
   ]
  },
  {
   "cell_type": "code",
   "execution_count": 22,
   "id": "4229c629-4b46-4c3a-90be-c15de2203ee5",
   "metadata": {},
   "outputs": [
    {
     "name": "stdout",
     "output_type": "stream",
     "text": [
      " * Serving Flask app '__main__'\n",
      " * Debug mode: on\n"
     ]
    },
    {
     "name": "stderr",
     "output_type": "stream",
     "text": [
      "WARNING: This is a development server. Do not use it in a production deployment. Use a production WSGI server instead.\n",
      " * Running on http://127.0.0.1:5000\n",
      "Press CTRL+C to quit\n",
      " * Restarting with watchdog (windowsapi)\n"
     ]
    },
    {
     "ename": "SystemExit",
     "evalue": "1",
     "output_type": "error",
     "traceback": [
      "An exception has occurred, use %tb to see the full traceback.\n",
      "\u001b[1;31mSystemExit\u001b[0m\u001b[1;31m:\u001b[0m 1\n"
     ]
    }
   ],
   "source": [
    "# -*- encoding:utf-8 -*-\n",
    "import flask\n",
    "html_txt = \"\"\"\n",
    "<!DOCTYPE html>\n",
    "<html>\n",
    "    <body>\n",
    "        <h2>收到 GET 请求</h2>\n",
    "        <a href='/get_info'>获取会话信息</a>\n",
    "    </body>\n",
    "</html>\n",
    "\"\"\"\n",
    "app = flask.Flask(__name__)\n",
    "@app.route('/set_info/<name>')\n",
    "def set_cks(name):\n",
    "    name = name if name else 'anonymous'\n",
    "    flask.session['name'] = name #设置 session\n",
    "    return html_txt\n",
    "@app.route('/get_info')\n",
    "def get_cks():\n",
    "    name = 'name' in flask.session and flask.session['name'] #获取 session\n",
    "    if name:\n",
    "        return '获取的会话信息是:' + name\n",
    "    else:\n",
    "        return '没有相应会话信息。'\n",
    "\n",
    "app.secret_key = 'dfadff#$#5dgfddgssgfgsfgr4$T^%^' #设置 cookie 密钥\n",
    "app.run(debug=True)\n",
    "#这段代码在jupyter notebook中报错，但是在pycharm中可以运行"
   ]
  },
  {
   "cell_type": "code",
   "execution_count": null,
   "id": "4a690862-ef6b-4411-ae9d-a1e9758694ac",
   "metadata": {},
   "outputs": [],
   "source": []
  }
 ],
 "metadata": {
  "kernelspec": {
   "display_name": "Python 3 (ipykernel)",
   "language": "python",
   "name": "python3"
  },
  "language_info": {
   "codemirror_mode": {
    "name": "ipython",
    "version": 3
   },
   "file_extension": ".py",
   "mimetype": "text/x-python",
   "name": "python",
   "nbconvert_exporter": "python",
   "pygments_lexer": "ipython3",
   "version": "3.12.4"
  }
 },
 "nbformat": 4,
 "nbformat_minor": 5
}
