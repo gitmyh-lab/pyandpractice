{
 "cells": [
  {
   "cell_type": "code",
   "execution_count": 1,
   "id": "f37e17db-3ee5-421b-ac52-f083144421ad",
   "metadata": {},
   "outputs": [
    {
     "name": "stdout",
     "output_type": "stream",
     "text": [
      "x is 3\n"
     ]
    }
   ],
   "source": [
    "x = 14 #全局变量 x\n",
    "def foo(): #定义函数（嵌套的外层函数）\n",
    "    x = 3\n",
    "    def bar(): #定义函数（嵌套的内层函数）\n",
    "        print('x is %d' % x) #引用变量 x（实际引用的是嵌套的外层函数中的 x）\n",
    "    bar() #调用嵌套的内层函数\n",
    "\n",
    "foo()"
   ]
  },
  {
   "cell_type": "code",
   "execution_count": 2,
   "id": "1d7656c7-3057-4e2b-92bb-e0b84a46d029",
   "metadata": {},
   "outputs": [
    {
     "name": "stdout",
     "output_type": "stream",
     "text": [
      "返回一个求和的函数，并不求和。\n",
      "\n",
      "调用并求和：\n",
      "7\n"
     ]
    }
   ],
   "source": [
    "def delay_fun(x,y): #定义一个可以延迟求值的函数\n",
    "     def caculator(): #内部嵌套的函数\n",
    "         return x + y #直接返回要求的值\n",
    "     return caculator #返回内部嵌套的函数对象\n",
    "\n",
    "print('返回一个求和的函数，并不求和。')\n",
    "msum = delay_fun(3,4) #调用外层函数，并不计算，实际返回一个函数对象\n",
    "print()\n",
    "print('调用并求和：')\n",
    "print(msum()) #实际求值的调用"
   ]
  },
  {
   "cell_type": "code",
   "execution_count": 3,
   "id": "2ef7ee86-3734-4fe2-a26b-d1acc14470da",
   "metadata": {},
   "outputs": [
    {
     "name": "stdout",
     "output_type": "stream",
     "text": [
      "11\n",
      "10\n"
     ]
    }
   ],
   "source": [
    "def line(a,b):\n",
    "    def aline(x):\n",
    "        return a*x + b #泛型函数中可以使用不同的 a、b 值\n",
    "    return aline\n",
    "    \n",
    "line23 = line(2,3) #a、b 值分别为 2、3 的一次函数\n",
    "line50 = line(5,0) #a、b 值分别为 5、0 的一次函数\n",
    "print(line23(4)) #x 为 4 时的第一种类型函数值\n",
    "print(line50(2)) #x 为 2 时的第二种类型函数值"
   ]
  },
  {
   "cell_type": "code",
   "execution_count": null,
   "id": "41ac657e-d82b-46e1-82d8-3c3a7cf8ba27",
   "metadata": {},
   "outputs": [],
   "source": [
    "class FileMgr: #实现上下文管理协议方法的类\n",
    "    def __init__(self,filename): #构造函数（初始化文件名）\n",
    "        self.filename = filename\n",
    "        self.f = None\n",
    "    def __enter__(self): #定义协议方法\n",
    "        self.f = open(self.filename,encoding='utf-8')\n",
    "        return self.f #返回资源引用\n",
    "    def __exit__(self,t,v,tb): #定义协议方法\n",
    "        if self.f:\n",
    "            self.f.close() #释放文件资源\n",
    "\n",
    "if __name__ == '__main__':\n",
    "    with FileMgr('a10_4.py') as f: #用上下文管理器直接打开文件\n",
    "        for line in f.readlines(): #并返回文件资源引用供操作\n",
    "            print(line,end='')"
   ]
  },
  {
   "cell_type": "code",
   "execution_count": 4,
   "id": "c7856465-6cf4-488f-99ff-8154e5add7b3",
   "metadata": {},
   "outputs": [
    {
     "name": "stdout",
     "output_type": "stream",
     "text": [
      "start\n",
      "start end\n",
      "end\n"
     ]
    }
   ],
   "source": [
    "import contextlib\n",
    "@contextlib.contextmanager\n",
    "def my_mgr(s,e):\n",
    "    print(s)\n",
    "    yield s + ' ' + e #yield 后的表达式值即为 as 后变量的值\n",
    "    print(e)\n",
    "\n",
    "with my_mgr('start','end') as val:\n",
    "    print(val)\n",
    "\n",
    "#代码中定义了一个用装饰器 contextlib.contextmanager 装饰的生成器 my_mgr()\n",
    "#方法，使它成为一个上下文管理器。最后使用 with 语句来测试这个上下文管理器。"
   ]
  },
  {
   "cell_type": "code",
   "execution_count": 5,
   "id": "863228b7-8ebd-4b1a-a748-db6e0c8507a2",
   "metadata": {},
   "outputs": [
    {
     "name": "stdout",
     "output_type": "stream",
     "text": [
      "类属性 class_val： 3\n",
      "实例属性 x： 0\n",
      "实例属性 y： 0\n",
      "类属性 class_val： 1000\n",
      "实例属性 x： xxxxxxxx\n",
      "实例属性 y： yyyyyyyy\n",
      "添加的属性 z zzzzzzzz\n"
     ]
    }
   ],
   "source": [
    "class DemoClass: #定义一个用于演示的类\n",
    "    class_val = 3\n",
    "    def __init__(self,x=0,y=0):\n",
    "        self.x = x\n",
    "        self.y = y\n",
    "        self.info()\n",
    "    def info(self):\n",
    "        print('类属性 class_val：',DemoClass.class_val)\n",
    "        print('实例属性 x：',self.x)\n",
    "        print('实例属性 y：',self.y)\n",
    "\n",
    "dc = DemoClass() #实例化类\n",
    "if hasattr(DemoClass,'class_val'):\n",
    "    setattr(DemoClass,'class_val',1000) #设置类属性的值\n",
    "if hasattr(dc,'x'):\n",
    "    setattr(dc,'x','xxxxxxxx') #设置实例发生的值\n",
    "if hasattr(dc,'y'):\n",
    "    setattr(dc,'y','yyyyyyyy')\n",
    "dc.info()\n",
    "setattr(dc,'z','zzzzzzzz') #添加并设置实例属性的值\n",
    "print('添加的属性 z',dc.z)"
   ]
  },
  {
   "cell_type": "code",
   "execution_count": 6,
   "id": "b927b3af-2341-47fc-bb2f-2925fec460f5",
   "metadata": {},
   "outputs": [
    {
     "name": "stdout",
     "output_type": "stream",
     "text": [
      "选择了路径： a\n",
      "路径分支 A\n",
      "选择了路径： c\n",
      "路径分支 C\n",
      "选择了路径： b\n",
      "路径分支 B\n",
      "选择了路径： a\n",
      "路径分支 A\n"
     ]
    }
   ],
   "source": [
    "import random\n",
    "## 以下定义三个分支函数\n",
    "def path_a():\n",
    "    print('路径分支 A')\n",
    "def path_b():\n",
    "    print('路径分支 B')\n",
    "def path_c():\n",
    "    print('路径分支 C')\n",
    "\n",
    "path_dict = {} #定义空字典，并以键值为标志，把分支函数作为数据项\n",
    "path_dict['a'] = path_a\n",
    "path_dict['b'] = path_b\n",
    "path_dict['c'] = path_c\n",
    "paths = 'abc'\n",
    "for i in range(4):\n",
    "    path = random.choice(paths) #从所有的路径中随机选择一个路径\n",
    "    print('选择了路径：',path)\n",
    "    path_dict[path]() #进入分支"
   ]
  },
  {
   "cell_type": "code",
   "execution_count": 7,
   "id": "cbee34dd-9fa5-41d4-b75a-84bb1760fb66",
   "metadata": {},
   "outputs": [
    {
     "name": "stdout",
     "output_type": "stream",
     "text": [
      "len(booka): 13\n",
      "len(bookb): 11\n",
      "Python 从入门到精通 add Java 从入门到精通\n"
     ]
    }
   ],
   "source": [
    "class Book: #定义一个类 Book\n",
    "    def __init__(self,name=\"Python 从入门到精通\"):\n",
    "        self.name = name\n",
    "    def __add__(self,obj): #重载这个方法，实现类相加\n",
    "        return self.name + ' add ' + obj.name #得到书名相加\n",
    "    def __len__(self): #重载这个方法，使求其长度\n",
    "        return len(self.name) #得到书名的字符长度\n",
    "\n",
    "booka = Book() #实例化类\n",
    "bookb = Book('Java 从入门到精通')\n",
    "print(\"len(booka):\",len(booka)) #求其长度并输出\n",
    "print('len(bookb):',len(bookb))\n",
    "print(booka + bookb) #两个类相加"
   ]
  },
  {
   "cell_type": "code",
   "execution_count": 8,
   "id": "5a2b3f3b-8d8d-486c-95ec-c678e2e05134",
   "metadata": {},
   "outputs": [
    {
     "name": "stdout",
     "output_type": "stream",
     "text": [
      "嘎嘎嘎...\n",
      "喵喵喵...\n"
     ]
    },
    {
     "ename": "AttributeError",
     "evalue": "'Tree' object has no attribute 'quack'",
     "output_type": "error",
     "traceback": [
      "\u001b[1;31m---------------------------------------------------------------------------\u001b[0m",
      "\u001b[1;31mAttributeError\u001b[0m                            Traceback (most recent call last)",
      "Cell \u001b[1;32mIn[8], line 25\u001b[0m\n\u001b[0;32m     23\u001b[0m duck_demo(duck) \u001b[38;5;66;03m#调用参数鸭子类型\u001b[39;00m\n\u001b[0;32m     24\u001b[0m duck_demo(cat) \u001b[38;5;66;03m#调用参数鸭子类型\u001b[39;00m\n\u001b[1;32m---> 25\u001b[0m duck_demo(tree)\n",
      "Cell \u001b[1;32mIn[8], line 18\u001b[0m, in \u001b[0;36mduck_demo\u001b[1;34m(obj)\u001b[0m\n\u001b[0;32m     17\u001b[0m \u001b[38;5;28;01mdef\u001b[39;00m \u001b[38;5;21mduck_demo\u001b[39m(obj):\n\u001b[1;32m---> 18\u001b[0m     obj\u001b[38;5;241m.\u001b[39mquack()\n",
      "\u001b[1;31mAttributeError\u001b[0m: 'Tree' object has no attribute 'quack'"
     ]
    }
   ],
   "source": [
    "class Duck:\n",
    "    def __init__(self,name='duck'):\n",
    "        self.name = name\n",
    "    def quack(self):\n",
    "        print(\"嘎嘎嘎...\")\n",
    "        \n",
    "class Cat:\n",
    "    def __init__(self,name='cat'):\n",
    "        self.name = name\n",
    "    def quack(self):\n",
    "        print(\"喵喵喵...\")\n",
    "\n",
    "class Tree:\n",
    "    def __init__(self,name='tree'):\n",
    "        self.name = name\n",
    "        \n",
    "def duck_demo(obj):\n",
    "    obj.quack()\n",
    "\n",
    "duck = Duck()\n",
    "cat = Cat()\n",
    "tree = Tree()\n",
    "duck_demo(duck) #调用参数鸭子类型\n",
    "duck_demo(cat) #调用参数鸭子类型\n",
    "duck_demo(tree) #会引发错误"
   ]
  },
  {
   "cell_type": "code",
   "execution_count": null,
   "id": "e7f5445d-2db5-4135-98ef-bdd56989259a",
   "metadata": {},
   "outputs": [],
   "source": []
  }
 ],
 "metadata": {
  "kernelspec": {
   "display_name": "Python 3 (ipykernel)",
   "language": "python",
   "name": "python3"
  },
  "language_info": {
   "codemirror_mode": {
    "name": "ipython",
    "version": 3
   },
   "file_extension": ".py",
   "mimetype": "text/x-python",
   "name": "python",
   "nbconvert_exporter": "python",
   "pygments_lexer": "ipython3",
   "version": "3.12.4"
  }
 },
 "nbformat": 4,
 "nbformat_minor": 5
}
