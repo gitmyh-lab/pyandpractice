{
 "cells": [
  {
   "cell_type": "code",
   "execution_count": 1,
   "id": "7a68611f-df94-41e0-8db5-8d7d924834dd",
   "metadata": {},
   "outputs": [
    {
     "data": {
      "text/plain": [
       "re.compile(r'a*b', re.IGNORECASE|re.UNICODE|re.VERBOSE)"
      ]
     },
     "execution_count": 1,
     "metadata": {},
     "output_type": "execute_result"
    }
   ],
   "source": [
    "import re\n",
    "re.compile('a*b',re.I|re.X) # 编译正则表达式，忽略大小写和模式中空格\n",
    "## 使用 re.X 编译标志表示在匹配模式中忽略注释以及空格等字符\n"
   ]
  },
  {
   "cell_type": "code",
   "execution_count": 10,
   "id": "60eae9cc-ac32-410e-8eb2-be58aea7586d",
   "metadata": {},
   "outputs": [],
   "source": [
    " s = 'Phone No. 010-87654321'"
   ]
  },
  {
   "cell_type": "code",
   "execution_count": 5,
   "id": "dc2904e7-4cfa-4221-adc2-b508bb3a3c94",
   "metadata": {},
   "outputs": [],
   "source": [
    "r = re.compile(r'(\\d+)-(\\d+)')"
   ]
  },
  {
   "cell_type": "code",
   "execution_count": 6,
   "id": "948d5fdf-d5b9-4be2-808f-bfd5c029ad89",
   "metadata": {},
   "outputs": [
    {
     "data": {
      "text/plain": [
       "<re.Match object; span=(10, 22), match='010-87654321'>"
      ]
     },
     "execution_count": 6,
     "metadata": {},
     "output_type": "execute_result"
    }
   ],
   "source": [
    "m = r.search(s)\n",
    "m"
   ]
  },
  {
   "cell_type": "code",
   "execution_count": 7,
   "id": "e78234dd-3d9f-4ff6-bbb9-a861bee859fb",
   "metadata": {},
   "outputs": [
    {
     "data": {
      "text/plain": [
       "('010', '87654321')"
      ]
     },
     "execution_count": 7,
     "metadata": {},
     "output_type": "execute_result"
    }
   ],
   "source": [
    "m.group(1)\n",
    "m.group(2)\n",
    "m.groups()"
   ]
  },
  {
   "cell_type": "code",
   "execution_count": 11,
   "id": "76242677-a802-4c68-a87a-724785604ae4",
   "metadata": {},
   "outputs": [
    {
     "data": {
      "text/plain": [
       "<re.Match object; span=(10, 22), match='010-87654321'>"
      ]
     },
     "execution_count": 11,
     "metadata": {},
     "output_type": "execute_result"
    }
   ],
   "source": [
    "#用“(?P<组名>)”为组设置一个名字\n",
    "r = re.compile(r'(?P<Area>\\d+)-(?P<No>\\d+)')\n",
    "m = r.search(s)\n",
    "m"
   ]
  },
  {
   "cell_type": "code",
   "execution_count": 12,
   "id": "0234e5dc-f81c-4ba4-804a-ebf7830bb99c",
   "metadata": {},
   "outputs": [
    {
     "data": {
      "text/plain": [
       "{'Area': '010', 'No': '87654321'}"
      ]
     },
     "execution_count": 12,
     "metadata": {},
     "output_type": "execute_result"
    }
   ],
   "source": [
    "m.groupdict()"
   ]
  },
  {
   "cell_type": "code",
   "execution_count": 13,
   "id": "556ac718-16a9-4b8b-b7ac-c6500727c3ed",
   "metadata": {},
   "outputs": [
    {
     "data": {
      "text/plain": [
       "'87654321'"
      ]
     },
     "execution_count": 13,
     "metadata": {},
     "output_type": "execute_result"
    }
   ],
   "source": [
    "m.group('No')"
   ]
  },
  {
   "cell_type": "code",
   "execution_count": 16,
   "id": "597b116c-0af7-4112-8471-300c674f6a4c",
   "metadata": {},
   "outputs": [
    {
     "name": "stdout",
     "output_type": "stream",
     "text": [
      "-f\n"
     ]
    },
    {
     "ename": "FileNotFoundError",
     "evalue": "[Errno 2] No such file or directory: '-f'",
     "output_type": "error",
     "traceback": [
      "\u001b[1;31m---------------------------------------------------------------------------\u001b[0m",
      "\u001b[1;31mFileNotFoundError\u001b[0m                         Traceback (most recent call last)",
      "Cell \u001b[1;32mIn[16], line 37\u001b[0m\n\u001b[0;32m     35\u001b[0m     sour \u001b[38;5;241m=\u001b[39m sys\u001b[38;5;241m.\u001b[39margv[\u001b[38;5;241m1\u001b[39m]\n\u001b[0;32m     36\u001b[0m \u001b[38;5;28mprint\u001b[39m(sour)\n\u001b[1;32m---> 37\u001b[0m file \u001b[38;5;241m=\u001b[39m \u001b[38;5;28mopen\u001b[39m(sour,encoding\u001b[38;5;241m=\u001b[39m\u001b[38;5;124m\"\u001b[39m\u001b[38;5;124mutf-8\u001b[39m\u001b[38;5;124m\"\u001b[39m) \u001b[38;5;66;03m# 打开文件\u001b[39;00m\n\u001b[0;32m     38\u001b[0m s \u001b[38;5;241m=\u001b[39m file\u001b[38;5;241m.\u001b[39mreadlines() \u001b[38;5;66;03m# 将 文件内容以行读入的 s 中\u001b[39;00m\n\u001b[0;32m     39\u001b[0m file\u001b[38;5;241m.\u001b[39mclose() \u001b[38;5;66;03m# 关闭文件\u001b[39;00m\n",
      "File \u001b[1;32mD:\\anaconda3\\Lib\\site-packages\\IPython\\core\\interactiveshell.py:324\u001b[0m, in \u001b[0;36m_modified_open\u001b[1;34m(file, *args, **kwargs)\u001b[0m\n\u001b[0;32m    317\u001b[0m \u001b[38;5;28;01mif\u001b[39;00m file \u001b[38;5;129;01min\u001b[39;00m {\u001b[38;5;241m0\u001b[39m, \u001b[38;5;241m1\u001b[39m, \u001b[38;5;241m2\u001b[39m}:\n\u001b[0;32m    318\u001b[0m     \u001b[38;5;28;01mraise\u001b[39;00m \u001b[38;5;167;01mValueError\u001b[39;00m(\n\u001b[0;32m    319\u001b[0m         \u001b[38;5;124mf\u001b[39m\u001b[38;5;124m\"\u001b[39m\u001b[38;5;124mIPython won\u001b[39m\u001b[38;5;124m'\u001b[39m\u001b[38;5;124mt let you open fd=\u001b[39m\u001b[38;5;132;01m{\u001b[39;00mfile\u001b[38;5;132;01m}\u001b[39;00m\u001b[38;5;124m by default \u001b[39m\u001b[38;5;124m\"\u001b[39m\n\u001b[0;32m    320\u001b[0m         \u001b[38;5;124m\"\u001b[39m\u001b[38;5;124mas it is likely to crash IPython. If you know what you are doing, \u001b[39m\u001b[38;5;124m\"\u001b[39m\n\u001b[0;32m    321\u001b[0m         \u001b[38;5;124m\"\u001b[39m\u001b[38;5;124myou can use builtins\u001b[39m\u001b[38;5;124m'\u001b[39m\u001b[38;5;124m open.\u001b[39m\u001b[38;5;124m\"\u001b[39m\n\u001b[0;32m    322\u001b[0m     )\n\u001b[1;32m--> 324\u001b[0m \u001b[38;5;28;01mreturn\u001b[39;00m io_open(file, \u001b[38;5;241m*\u001b[39margs, \u001b[38;5;241m*\u001b[39m\u001b[38;5;241m*\u001b[39mkwargs)\n",
      "\u001b[1;31mFileNotFoundError\u001b[0m: [Errno 2] No such file or directory: '-f'"
     ]
    }
   ],
   "source": [
    "# -*- coding:utf-8 -*-\n",
    "# \n",
    "import re\n",
    "import sys\n",
    "def DealWithFunc(s):\n",
    "    r = re.compile(r'''\n",
    "        (?<=def\\s) # 前边必须含有 def 且 def 后跟一个空格\n",
    "        \\w+ # 匹配函数名\n",
    "        \\(.*?\\) # 匹配参数\n",
    "        (?=:) # 后边必须跟一个“:”\n",
    "        ''',re.X | re.U) # 设置编译选项，忽略模式中的注释\n",
    "    return r.findall(s)\n",
    "    \n",
    "def DealWithVar(s):\n",
    "    vars = [] # 定义一个列表，因为这里分两种情况处理\n",
    "    r = re.compile(r'''\n",
    "        \\b # 匹配单词开始\n",
    "        \\w+ # 匹配变量名\n",
    "        (?=\\s=) # 处理为为变量赋值的情况\n",
    "        ''',re.X | re.U)\n",
    "    vars.extend(r.findall(s))\n",
    "    r = re.compile(r'''\n",
    "        (?<=for\\s) # 处理变量位于 for 语句中的情况\n",
    "        \\w+ # 匹配变量名\n",
    "        \\s # 匹配空格\n",
    "        (?=in) # 匹配 in\n",
    "        ''',re.X | re.U) # 设置编译选项，忽略模式中的注释\n",
    "    vars.extend(r.findall(s))\n",
    "    return vars\n",
    "    \n",
    "# 判断命令行是否有输入，没有则要求输入要处理的文件\n",
    "if len(sys.argv) == 1:\n",
    "    sour = input('请输入要处理的文件路径')\n",
    "else:\n",
    "    sour = sys.argv[1]\n",
    "print(sour)\n",
    "file = open(sour,encoding=\"utf-8\") # 打开文件\n",
    "s = file.readlines() # 将 文件内容以行读入的 s 中\n",
    "file.close() # 关闭文件\n",
    "print('********************************')\n",
    "print(sour,'中的函数有：')\n",
    "print('********************************')\n",
    "i = 0 # i 为函数所在的行号\n",
    "# 循环处理每一行，匹配其中的函数并输出函数所在的行号，以及函数的原型\n",
    "for line in s:\n",
    "    i = i + 1\n",
    "    function = DealWithFunc(line)\n",
    "    if len(function) == 1:\n",
    "        print('Line: ',i,'\\t',function[0])\n",
    "print('********************************')\n",
    "print(sour,'中的变量有：')\n",
    "print('********************************')\n",
    "i = 0 # 此处 i 为变量所在的行号\n",
    "# 循环处理每一行，匹配其中的变量，输出变量所在的行号，以及变量名\n",
    "for line in s:\n",
    "    i = i + 1\n",
    "    var = DealWithVar(line)\n",
    "    if len(var) == 1:\n",
    "        print('Line: ',i,'\\t',var[0])"
   ]
  },
  {
   "cell_type": "code",
   "execution_count": null,
   "id": "19b8d1c5-8332-4266-b169-1e78ae0db31d",
   "metadata": {},
   "outputs": [],
   "source": []
  }
 ],
 "metadata": {
  "kernelspec": {
   "display_name": "Python 3 (ipykernel)",
   "language": "python",
   "name": "python3"
  },
  "language_info": {
   "codemirror_mode": {
    "name": "ipython",
    "version": 3
   },
   "file_extension": ".py",
   "mimetype": "text/x-python",
   "name": "python",
   "nbconvert_exporter": "python",
   "pygments_lexer": "ipython3",
   "version": "3.12.4"
  }
 },
 "nbformat": 4,
 "nbformat_minor": 5
}
