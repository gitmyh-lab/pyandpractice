{
 "cells": [
  {
   "cell_type": "code",
   "execution_count": 3,
   "id": "1431a6e6-415e-4cab-b574-357a4e7275a4",
   "metadata": {},
   "outputs": [
    {
     "name": "stdout",
     "output_type": "stream",
     "text": [
      "Right params testing start...\n",
      "Try Test Finished!\n",
      "No Try Test Finished!\n",
      "Error params testing start...\n",
      "IndexError\n",
      "Try Test Finished!\n"
     ]
    },
    {
     "ename": "IndexError",
     "evalue": "list index out of range",
     "output_type": "error",
     "traceback": [
      "\u001b[1;31m---------------------------------------------------------------------------\u001b[0m",
      "\u001b[1;31mIndexError\u001b[0m                                Traceback (most recent call last)",
      "Cell \u001b[1;32mIn[3], line 17\u001b[0m\n\u001b[0;32m     15\u001b[0m \u001b[38;5;28mprint\u001b[39m(\u001b[38;5;124m'\u001b[39m\u001b[38;5;124mError params testing start...\u001b[39m\u001b[38;5;124m'\u001b[39m)\n\u001b[0;32m     16\u001b[0m \u001b[38;5;28mprint\u001b[39m(testTry(\u001b[38;5;241m4\u001b[39m,\u001b[38;5;28;01mTrue\u001b[39;00m))\n\u001b[1;32m---> 17\u001b[0m \u001b[38;5;28mprint\u001b[39m(testTry(\u001b[38;5;241m4\u001b[39m,\u001b[38;5;28;01mFalse\u001b[39;00m))\n",
      "Cell \u001b[1;32mIn[3], line 10\u001b[0m, in \u001b[0;36mtestTry\u001b[1;34m(index, flag)\u001b[0m\n\u001b[0;32m      8\u001b[0m     \u001b[38;5;28;01mreturn\u001b[39;00m \u001b[38;5;124m'\u001b[39m\u001b[38;5;124mTry Test Finished!\u001b[39m\u001b[38;5;124m'\u001b[39m\n\u001b[0;32m      9\u001b[0m \u001b[38;5;28;01melse\u001b[39;00m:\n\u001b[1;32m---> 10\u001b[0m     astu \u001b[38;5;241m=\u001b[39m stulst[index]\n\u001b[0;32m     11\u001b[0m     \u001b[38;5;28;01mreturn\u001b[39;00m \u001b[38;5;124m'\u001b[39m\u001b[38;5;124mNo Try Test Finished!\u001b[39m\u001b[38;5;124m'\u001b[39m\n",
      "\u001b[1;31mIndexError\u001b[0m: list index out of range"
     ]
    }
   ],
   "source": [
    "def testTry(index,flag=False):\n",
    "    stulst = ['John','Jenny','Tom']\n",
    "    if flag:\n",
    "        try:\n",
    "            astu = stulst[index]\n",
    "        except IndexError:\n",
    "            print('IndexError')\n",
    "        return 'Try Test Finished!'\n",
    "    else:\n",
    "        astu = stulst[index]\n",
    "        return 'No Try Test Finished!'\n",
    "print('Right params testing start...')\n",
    "print(testTry(1,True))\n",
    "print(testTry(1,False))\n",
    "print('Error params testing start...')\n",
    "print(testTry(4,True))\n",
    "print(testTry(4,False))"
   ]
  },
  {
   "cell_type": "code",
   "execution_count": 4,
   "id": "f1195c9f-5421-4f36-9e80-26b2252a4104",
   "metadata": {},
   "outputs": [
    {
     "name": "stdout",
     "output_type": "stream",
     "text": [
      "No IndexError...\n",
      "File already had been closed!\n",
      "IndexError...\n",
      "File already had been closed!\n"
     ]
    }
   ],
   "source": [
    "def testTryFinally(index):\n",
    "    stulst = ['John','Jenny','Tom']\n",
    "    af = open('my.txt','wt+')\n",
    "    try:\n",
    "        af.write(stulst[index])\n",
    "    except:\n",
    "        pass\n",
    "    finally:\n",
    "        af.close()\n",
    "        print('File already had been closed!')\n",
    "\n",
    "print('No IndexError...')\n",
    "testTryFinally(1)\n",
    "print('IndexError...')\n",
    "testTryFinally(4)"
   ]
  },
  {
   "cell_type": "code",
   "execution_count": 6,
   "id": "14a6b900-782e-4b12-b15e-8447e1f4951c",
   "metadata": {},
   "outputs": [
    {
     "name": "stdout",
     "output_type": "stream",
     "text": [
      "Try all...Right\n",
      "2.5\n",
      "Try all...one Error\n",
      "Error\n",
      "Try all ...two Error\n",
      "Error\n"
     ]
    }
   ],
   "source": [
    "def testTryAll(index,i):\n",
    "    stulst = ['John','Jenny','Tom']\n",
    "    try:\n",
    "        print(len(stulst[index])/i)\n",
    "    except:\n",
    "        print('Error')\n",
    "\n",
    "print('Try all...Right')\n",
    "testTryAll(1,2)\n",
    "print('Try all...one Error')\n",
    "testTryAll(1,0)\n",
    "print('Try all ...two Error')\n",
    "testTryAll(4,0)"
   ]
  },
  {
   "cell_type": "code",
   "execution_count": 7,
   "id": "b5a35f60-c246-4c82-8ec8-df5ab8300cc4",
   "metadata": {},
   "outputs": [
    {
     "name": "stdout",
     "output_type": "stream",
     "text": [
      "Try all...Right\n",
      "2.5\n",
      "Try all...one Error\n"
     ]
    },
    {
     "ename": "ZeroDivisionError",
     "evalue": "division by zero",
     "output_type": "error",
     "traceback": [
      "\u001b[1;31m---------------------------------------------------------------------------\u001b[0m",
      "\u001b[1;31mZeroDivisionError\u001b[0m                         Traceback (most recent call last)",
      "Cell \u001b[1;32mIn[7], line 11\u001b[0m\n\u001b[0;32m      9\u001b[0m testTryAll(\u001b[38;5;241m1\u001b[39m,\u001b[38;5;241m2\u001b[39m)\n\u001b[0;32m     10\u001b[0m \u001b[38;5;28mprint\u001b[39m(\u001b[38;5;124m'\u001b[39m\u001b[38;5;124mTry all...one Error\u001b[39m\u001b[38;5;124m'\u001b[39m)\n\u001b[1;32m---> 11\u001b[0m testTryAll(\u001b[38;5;241m1\u001b[39m,\u001b[38;5;241m0\u001b[39m)\n\u001b[0;32m     12\u001b[0m \u001b[38;5;28mprint\u001b[39m(\u001b[38;5;124m'\u001b[39m\u001b[38;5;124mTry all ...two Error\u001b[39m\u001b[38;5;124m'\u001b[39m)\n\u001b[0;32m     13\u001b[0m testTryAll(\u001b[38;5;241m4\u001b[39m,\u001b[38;5;241m0\u001b[39m)\n",
      "Cell \u001b[1;32mIn[7], line 4\u001b[0m, in \u001b[0;36mtestTryAll\u001b[1;34m(index, i)\u001b[0m\n\u001b[0;32m      2\u001b[0m stulst \u001b[38;5;241m=\u001b[39m [\u001b[38;5;124m'\u001b[39m\u001b[38;5;124mJohn\u001b[39m\u001b[38;5;124m'\u001b[39m,\u001b[38;5;124m'\u001b[39m\u001b[38;5;124mJenny\u001b[39m\u001b[38;5;124m'\u001b[39m,\u001b[38;5;124m'\u001b[39m\u001b[38;5;124mTom\u001b[39m\u001b[38;5;124m'\u001b[39m]\n\u001b[0;32m      3\u001b[0m \u001b[38;5;28;01mtry\u001b[39;00m:\n\u001b[1;32m----> 4\u001b[0m     \u001b[38;5;28mprint\u001b[39m(\u001b[38;5;28mlen\u001b[39m(stulst[index])\u001b[38;5;241m/\u001b[39mi)\n\u001b[0;32m      5\u001b[0m \u001b[38;5;28;01mexcept\u001b[39;00m \u001b[38;5;167;01mIndexError\u001b[39;00m:\n\u001b[0;32m      6\u001b[0m     \u001b[38;5;28mprint\u001b[39m(\u001b[38;5;124m'\u001b[39m\u001b[38;5;124mError\u001b[39m\u001b[38;5;124m'\u001b[39m)\n",
      "\u001b[1;31mZeroDivisionError\u001b[0m: division by zero"
     ]
    }
   ],
   "source": [
    "def testTryAll(index,i):\n",
    "    stulst = ['John','Jenny','Tom']\n",
    "    try:\n",
    "        print(len(stulst[index])/i)\n",
    "    except IndexError:\n",
    "        print('Error')\n",
    "\n",
    "print('Try all...Right')\n",
    "testTryAll(1,2)\n",
    "print('Try all...one Error')\n",
    "testTryAll(1,0)\n",
    "print('Try all ...two Error')\n",
    "testTryAll(4,0)"
   ]
  },
  {
   "cell_type": "code",
   "execution_count": 9,
   "id": "5da441f7-f817-417f-b803-599c2c1ed9a6",
   "metadata": {},
   "outputs": [
    {
     "name": "stdout",
     "output_type": "stream",
     "text": [
      "0\n",
      "1\n"
     ]
    },
    {
     "ename": "NameError",
     "evalue": "",
     "output_type": "error",
     "traceback": [
      "\u001b[1;31m---------------------------------------------------------------------------\u001b[0m",
      "\u001b[1;31mNameError\u001b[0m                                 Traceback (most recent call last)",
      "Cell \u001b[1;32mIn[9], line 9\u001b[0m\n\u001b[0;32m      6\u001b[0m         \u001b[38;5;28mprint\u001b[39m(i)\n\u001b[0;32m      7\u001b[0m     \u001b[38;5;28mprint\u001b[39m(\u001b[38;5;124m'\u001b[39m\u001b[38;5;124mend...\u001b[39m\u001b[38;5;124m'\u001b[39m)\n\u001b[1;32m----> 9\u001b[0m testRaise()\n",
      "Cell \u001b[1;32mIn[9], line 5\u001b[0m, in \u001b[0;36mtestRaise\u001b[1;34m()\u001b[0m\n\u001b[0;32m      3\u001b[0m \u001b[38;5;28;01mfor\u001b[39;00m i \u001b[38;5;129;01min\u001b[39;00m \u001b[38;5;28mrange\u001b[39m(\u001b[38;5;241m5\u001b[39m):\n\u001b[0;32m      4\u001b[0m     \u001b[38;5;28;01mif\u001b[39;00m i \u001b[38;5;241m==\u001b[39m \u001b[38;5;241m2\u001b[39m:\n\u001b[1;32m----> 5\u001b[0m         \u001b[38;5;28;01mraise\u001b[39;00m \u001b[38;5;167;01mNameError\u001b[39;00m\n\u001b[0;32m      6\u001b[0m     \u001b[38;5;28mprint\u001b[39m(i)\n\u001b[0;32m      7\u001b[0m \u001b[38;5;28mprint\u001b[39m(\u001b[38;5;124m'\u001b[39m\u001b[38;5;124mend...\u001b[39m\u001b[38;5;124m'\u001b[39m)\n",
      "\u001b[1;31mNameError\u001b[0m: "
     ]
    }
   ],
   "source": [
    "# 手工抛出异常\n",
    "def testRaise():\n",
    "    for i in range(5):\n",
    "        if i == 2:\n",
    "            raise NameError\n",
    "        print(i)\n",
    "    print('end...')\n",
    "\n",
    "testRaise()"
   ]
  },
  {
   "cell_type": "code",
   "execution_count": 12,
   "id": "01acac2b-07bf-4e0d-8640-2afe488be251",
   "metadata": {},
   "outputs": [
    {
     "name": "stdout",
     "output_type": "stream",
     "text": [
      "Raise a NameError!\n",
      "2\n",
      "end...\n"
     ]
    }
   ],
   "source": [
    "# 手工抛出异常\n",
    "def testRaise2():\n",
    "    for i in range(5):\n",
    "        try:\n",
    "            if i == 2:\n",
    "                raise NameError\n",
    "        except NameError:\n",
    "            print('Raise a NameError!')\n",
    "        print(i)\n",
    "    print('end...')\n",
    "\n",
    "testRaise2()"
   ]
  },
  {
   "cell_type": "code",
   "execution_count": 13,
   "id": "64ef634a-af69-483f-8f99-2ecf863fa7d2",
   "metadata": {},
   "outputs": [
    {
     "name": "stdout",
     "output_type": "stream",
     "text": [
      "0\n",
      "1\n",
      "Raise a AssertionError!\n",
      "2\n",
      "end...\n"
     ]
    }
   ],
   "source": [
    "def testAssert():\n",
    "    for i in range(3):\n",
    "        try:\n",
    "            assert i<2\n",
    "        except AssertionError:\n",
    "            print('Raise a AssertionError!')\n",
    "        print(i)\n",
    "    print('end...')\n",
    "\n",
    "testAssert()\n",
    "\n",
    "# 关闭程序中的assert语句\n",
    "# python -O xxx.py"
   ]
  },
  {
   "cell_type": "code",
   "execution_count": 14,
   "id": "4b1f9c44-e231-498d-882c-bb7cec75637b",
   "metadata": {},
   "outputs": [
    {
     "ename": "RangeError",
     "evalue": "Range Error!",
     "output_type": "error",
     "traceback": [
      "\u001b[1;31m---------------------------------------------------------------------------\u001b[0m",
      "\u001b[1;31mRangeError\u001b[0m                                Traceback (most recent call last)",
      "Cell \u001b[1;32mIn[14], line 8\u001b[0m\n\u001b[0;32m      5\u001b[0m     \u001b[38;5;28;01mdef\u001b[39;00m \u001b[38;5;21m__str__\u001b[39m(\u001b[38;5;28mself\u001b[39m):\n\u001b[0;32m      6\u001b[0m         \u001b[38;5;28;01mreturn\u001b[39;00m \u001b[38;5;28mself\u001b[39m\u001b[38;5;241m.\u001b[39mvalue\n\u001b[1;32m----> 8\u001b[0m \u001b[38;5;28;01mraise\u001b[39;00m RangeError(\u001b[38;5;124m'\u001b[39m\u001b[38;5;124mRange Error!\u001b[39m\u001b[38;5;124m'\u001b[39m)\n",
      "\u001b[1;31mRangeError\u001b[0m: Range Error!"
     ]
    }
   ],
   "source": [
    "# 自定义异常类\n",
    "class RangeError(Exception):\n",
    "    def __init__(self,value):\n",
    "        self.value = value\n",
    "    def __str__(self):\n",
    "        return self.value\n",
    "\n",
    "raise RangeError('Range Error!')"
   ]
  },
  {
   "cell_type": "code",
   "execution_count": 15,
   "id": "d6db93bd-bf73-4374-8003-d498d1a7f53e",
   "metadata": {},
   "outputs": [
    {
     "name": "stdout",
     "output_type": "stream",
     "text": [
      "> \u001b[1;32m<string>\u001b[0m(2)\u001b[0;36m<module>\u001b[1;34m()\u001b[0m\n",
      "\n"
     ]
    },
    {
     "name": "stdin",
     "output_type": "stream",
     "text": [
      "ipdb>  h\n"
     ]
    },
    {
     "name": "stdout",
     "output_type": "stream",
     "text": [
      "\n",
      "Documented commands (type help <topic>):\n",
      "========================================\n",
      "EOF    commands   enable      list      pinfo2   rv               unt   \n",
      "a      condition  exceptions  ll        pp       s                until \n",
      "alias  cont       exit        longlist  psource  skip_hidden      up    \n",
      "args   context    h           n         q        skip_predicates  w     \n",
      "b      continue   help        next      quit     source           whatis\n",
      "break  d          ignore      p         r        step             where \n",
      "bt     debug      interact    pdef      restart  tbreak         \n",
      "c      disable    j           pdoc      return   u              \n",
      "cl     display    jump        pfile     retval   unalias        \n",
      "clear  down       l           pinfo     run      undisplay      \n",
      "\n",
      "Miscellaneous help topics:\n",
      "==========================\n",
      "exec  pdb\n",
      "\n"
     ]
    },
    {
     "name": "stdin",
     "output_type": "stream",
     "text": [
      "ipdb>  n\n"
     ]
    },
    {
     "name": "stdout",
     "output_type": "stream",
     "text": [
      "> \u001b[1;32m<string>\u001b[0m(3)\u001b[0;36m<module>\u001b[1;34m()\u001b[0m\n",
      "\n"
     ]
    },
    {
     "name": "stdin",
     "output_type": "stream",
     "text": [
      "ipdb>  continue\n"
     ]
    },
    {
     "name": "stdout",
     "output_type": "stream",
     "text": [
      "0\n",
      "1\n",
      "2\n"
     ]
    }
   ],
   "source": [
    "import pdb\n",
    "pdb.run('''\n",
    "for i in range(3):\n",
    "    print(i)\n",
    "''')"
   ]
  },
  {
   "cell_type": "code",
   "execution_count": 16,
   "id": "baac6e0d-bc8d-4d55-b87e-1dcef3b62f4d",
   "metadata": {},
   "outputs": [
    {
     "name": "stdout",
     "output_type": "stream",
     "text": [
      "> \u001b[1;32mc:\\users\\lenovo\\appdata\\local\\temp\\ipykernel_37636\\259315106.py\u001b[0m(4)\u001b[0;36msum\u001b[1;34m()\u001b[0m\n",
      "\n"
     ]
    },
    {
     "name": "stdin",
     "output_type": "stream",
     "text": [
      "ipdb>  n\n"
     ]
    },
    {
     "name": "stdout",
     "output_type": "stream",
     "text": [
      "> \u001b[1;32mc:\\users\\lenovo\\appdata\\local\\temp\\ipykernel_37636\\259315106.py\u001b[0m(5)\u001b[0;36msum\u001b[1;34m()\u001b[0m\n",
      "\n"
     ]
    },
    {
     "name": "stdin",
     "output_type": "stream",
     "text": [
      "ipdb>  n\n"
     ]
    },
    {
     "name": "stdout",
     "output_type": "stream",
     "text": [
      "> \u001b[1;32mc:\\users\\lenovo\\appdata\\local\\temp\\ipykernel_37636\\259315106.py\u001b[0m(6)\u001b[0;36msum\u001b[1;34m()\u001b[0m\n",
      "\n"
     ]
    },
    {
     "name": "stdin",
     "output_type": "stream",
     "text": [
      "ipdb>  n\n"
     ]
    },
    {
     "name": "stdout",
     "output_type": "stream",
     "text": [
      "> \u001b[1;32mc:\\users\\lenovo\\appdata\\local\\temp\\ipykernel_37636\\259315106.py\u001b[0m(5)\u001b[0;36msum\u001b[1;34m()\u001b[0m\n",
      "\n"
     ]
    },
    {
     "name": "stdin",
     "output_type": "stream",
     "text": [
      "ipdb>  continue\n"
     ]
    },
    {
     "data": {
      "text/plain": [
       "45"
      ]
     },
     "execution_count": 16,
     "metadata": {},
     "output_type": "execute_result"
    }
   ],
   "source": [
    "# 调试函数\n",
    "import pdb\n",
    "def sum(maxint):\n",
    "    s = 0\n",
    "    for i in range(maxint):\n",
    "        s += i\n",
    "    return s\n",
    "\n",
    "pdb.runcall(sum,10)"
   ]
  },
  {
   "cell_type": "code",
   "execution_count": 17,
   "id": "61e4c798-f53f-42d1-b292-61c95bc5feee",
   "metadata": {},
   "outputs": [
    {
     "name": "stdout",
     "output_type": "stream",
     "text": [
      "**********************************************************************\n",
      "File \"__main__\", line 7, in __main__.grade\n",
      "Failed example:\n",
      "    grade(80)\n",
      "Expected:\n",
      "    '良'\n",
      "Got:\n",
      "    '合格'\n",
      "**********************************************************************\n",
      "1 items had failures:\n",
      "   1 of   4 in __main__.grade\n",
      "***Test Failed*** 1 failures.\n"
     ]
    },
    {
     "data": {
      "text/plain": [
       "TestResults(failed=1, attempted=4)"
      ]
     },
     "execution_count": 17,
     "metadata": {},
     "output_type": "execute_result"
    }
   ],
   "source": [
    "# 测试程序\n",
    "import pdb\n",
    "def grade(sum):\n",
    "    # 测试用例\n",
    "    '''\n",
    "    >>> grade(100)\n",
    "    '优秀'\n",
    "    >>> grade(80)\n",
    "    '良'\n",
    "    >>> grade(65)\n",
    "    '合格'\n",
    "    >>> grade(10)\n",
    "    '不合格'\n",
    "    '''\n",
    "    if sum > 90:\n",
    "        return '优秀'\n",
    "    if sum > 80:\n",
    "        return '良'\n",
    "    if sum > 60:\n",
    "        return '合格'\n",
    "    if sum < 60:\n",
    "        return '不合格'\n",
    "\n",
    "import doctest\n",
    "doctest.testmod()"
   ]
  },
  {
   "cell_type": "code",
   "execution_count": 26,
   "id": "bde84fe5-e697-4926-ab6f-c67b7986dd6d",
   "metadata": {},
   "outputs": [
    {
     "ename": "FileNotFoundError",
     "evalue": "[Errno 2] No such file or directory: 'C:Users\\\\Ienovo\\\\mytest.txt'",
     "output_type": "error",
     "traceback": [
      "\u001b[1;31m---------------------------------------------------------------------------\u001b[0m",
      "\u001b[1;31mFileNotFoundError\u001b[0m                         Traceback (most recent call last)",
      "Cell \u001b[1;32mIn[26], line 14\u001b[0m\n\u001b[0;32m     11\u001b[0m         \u001b[38;5;28;01mreturn\u001b[39;00m \u001b[38;5;124m'\u001b[39m\u001b[38;5;124m不合格\u001b[39m\u001b[38;5;124m'\u001b[39m\n\u001b[0;32m     13\u001b[0m \u001b[38;5;28;01mimport\u001b[39;00m \u001b[38;5;21;01mdoctest\u001b[39;00m\n\u001b[1;32m---> 14\u001b[0m doctest\u001b[38;5;241m.\u001b[39mtestfile(\u001b[38;5;124mr\u001b[39m\u001b[38;5;124m'\u001b[39m\u001b[38;5;124mC:/Users/Ienovo/mytest.txt\u001b[39m\u001b[38;5;124m'\u001b[39m)\n",
      "File \u001b[1;32mD:\\anaconda3\\Lib\\doctest.py:2104\u001b[0m, in \u001b[0;36mtestfile\u001b[1;34m(filename, module_relative, name, package, globs, verbose, report, optionflags, extraglobs, raise_on_error, parser, encoding)\u001b[0m\n\u001b[0;32m   2100\u001b[0m     \u001b[38;5;28;01mraise\u001b[39;00m \u001b[38;5;167;01mValueError\u001b[39;00m(\u001b[38;5;124m\"\u001b[39m\u001b[38;5;124mPackage may only be specified for module-\u001b[39m\u001b[38;5;124m\"\u001b[39m\n\u001b[0;32m   2101\u001b[0m                      \u001b[38;5;124m\"\u001b[39m\u001b[38;5;124mrelative paths.\u001b[39m\u001b[38;5;124m\"\u001b[39m)\n\u001b[0;32m   2103\u001b[0m \u001b[38;5;66;03m# Relativize the path\u001b[39;00m\n\u001b[1;32m-> 2104\u001b[0m text, filename \u001b[38;5;241m=\u001b[39m _load_testfile(filename, package, module_relative,\n\u001b[0;32m   2105\u001b[0m                                 encoding \u001b[38;5;129;01mor\u001b[39;00m \u001b[38;5;124m\"\u001b[39m\u001b[38;5;124mutf-8\u001b[39m\u001b[38;5;124m\"\u001b[39m)\n\u001b[0;32m   2107\u001b[0m \u001b[38;5;66;03m# If no name was given, then use the file's name.\u001b[39;00m\n\u001b[0;32m   2108\u001b[0m \u001b[38;5;28;01mif\u001b[39;00m name \u001b[38;5;129;01mis\u001b[39;00m \u001b[38;5;28;01mNone\u001b[39;00m:\n",
      "File \u001b[1;32mD:\\anaconda3\\Lib\\doctest.py:239\u001b[0m, in \u001b[0;36m_load_testfile\u001b[1;34m(filename, package, module_relative, encoding)\u001b[0m\n\u001b[0;32m    236\u001b[0m         \u001b[38;5;66;03m# get_data() opens files as 'rb', so one must do the equivalent\u001b[39;00m\n\u001b[0;32m    237\u001b[0m         \u001b[38;5;66;03m# conversion as universal newlines would do.\u001b[39;00m\n\u001b[0;32m    238\u001b[0m         \u001b[38;5;28;01mreturn\u001b[39;00m _newline_convert(file_contents), filename\n\u001b[1;32m--> 239\u001b[0m \u001b[38;5;28;01mwith\u001b[39;00m \u001b[38;5;28mopen\u001b[39m(filename, encoding\u001b[38;5;241m=\u001b[39mencoding) \u001b[38;5;28;01mas\u001b[39;00m f:\n\u001b[0;32m    240\u001b[0m     \u001b[38;5;28;01mreturn\u001b[39;00m f\u001b[38;5;241m.\u001b[39mread(), filename\n",
      "\u001b[1;31mFileNotFoundError\u001b[0m: [Errno 2] No such file or directory: 'C:Users\\\\Ienovo\\\\mytest.txt'"
     ]
    }
   ],
   "source": [
    "# 测试程序\n",
    "import pdb\n",
    "def grade(sum):\n",
    "    if sum > 90:\n",
    "        return '优秀'\n",
    "    if sum > 80:\n",
    "        return '良'\n",
    "    if sum > 60:\n",
    "        return '合格'\n",
    "    if sum < 60:\n",
    "        return '不合格'\n",
    "\n",
    "import doctest\n",
    "doctest.testfile(r'C:/Users/Ienovo/mytest.txt')\n",
    "\n",
    "# 命令行模式下 python -m doctest mytest.txt"
   ]
  },
  {
   "cell_type": "code",
   "execution_count": 25,
   "id": "65a15bda-9d83-4635-a900-d19aaf71440d",
   "metadata": {},
   "outputs": [],
   "source": [
    "import pdb\n"
   ]
  },
  {
   "cell_type": "code",
   "execution_count": null,
   "id": "66835335-2931-42ba-804a-c5628dab8968",
   "metadata": {},
   "outputs": [],
   "source": []
  }
 ],
 "metadata": {
  "kernelspec": {
   "display_name": "Python 3 (ipykernel)",
   "language": "python",
   "name": "python3"
  },
  "language_info": {
   "codemirror_mode": {
    "name": "ipython",
    "version": 3
   },
   "file_extension": ".py",
   "mimetype": "text/x-python",
   "name": "python",
   "nbconvert_exporter": "python",
   "pygments_lexer": "ipython3",
   "version": "3.12.4"
  }
 },
 "nbformat": 4,
 "nbformat_minor": 5
}
