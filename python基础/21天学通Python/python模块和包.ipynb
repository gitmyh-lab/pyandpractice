{
 "cells": [
  {
   "cell_type": "code",
   "execution_count": null,
   "id": "bec729f0-f856-40df-89ce-fff2bc8a1ebb",
   "metadata": {},
   "outputs": [],
   "source": [
    "# 模块文件module_test.py\n",
    "print('导入的测试模块的输出')\n",
    "\n",
    "name = 'module_name'\n",
    "def m_t_pr():\n",
    "    print('模块module_test中的m_t_pr()函数')\n",
    "\n",
    "# 调用模块\n",
    "import sys\n",
    "#print(sys.path)\n",
    "sys.path.append('path') #path为模块文件所在路径\n",
    "import module_test\n",
    "module_test.m_t_pr()\n",
    "print(module_test.name)"
   ]
  },
  {
   "cell_type": "code",
   "execution_count": null,
   "id": "28c45212-1336-4d29-a429-7b96017acbb1",
   "metadata": {},
   "outputs": [],
   "source": [
    "# 文件compile.py\n",
    "# 脚本文件编译成字节码文件\n",
    "import py_compile\n",
    "py_compile.compile('xxx.py','xxx.pyc')\n",
    "\n",
    "# 优化编译\n",
    "# 命令行中输入 python -O compile.py\n",
    "# python -OO compile.py 优化程度较大 可能导致脚本运行错误"
   ]
  },
  {
   "cell_type": "code",
   "execution_count": 1,
   "id": "3e76aa47-d57f-4aae-91fb-41243a184956",
   "metadata": {},
   "outputs": [
    {
     "name": "stdout",
     "output_type": "stream",
     "text": [
      "导入的测试模块的输出\n",
      "模块module_test中的m_t_pr()函数\n",
      "module_name\n"
     ]
    }
   ],
   "source": [
    "# 模块文件module_test.py\n",
    "print('导入的测试模块的输出')\n",
    "\n",
    "name = 'module_name'\n",
    "def m_t_pr():\n",
    "    print('模块module_test中的m_t_pr()函数')\n",
    "\n",
    "# 程序独立运行，__name__属性为__main__\n",
    "if __name__ == '__main__':\n",
    "    m_t_pr()\n",
    "    print(name)\n"
   ]
  },
  {
   "cell_type": "code",
   "execution_count": null,
   "id": "a6eeba0b-e9ad-44d0-8f8e-904fc40947b9",
   "metadata": {},
   "outputs": [],
   "source": [
    "# 当前目录下pcka子目录中 __init__.py文件内容（此文件一定要存在）\n",
    "name = 'pcka'\n",
    "print('__init__.py中输出：',name)\n",
    "def pck_test_fun():\n",
    "    print('pck包中的方法pck_test_fun')\n",
    "\n",
    "#主程序 a8_3.py\n",
    "import pcka\n",
    "print('输出pcka包中的变量name：',pcka.name)\n",
    "print('调用pcka包中的函数：',end = '')\n",
    "pcka.pck_test_fun()"
   ]
  },
  {
   "cell_type": "code",
   "execution_count": 4,
   "id": "370e3c1a-d24e-4498-ae02-8a2a552b0bd4",
   "metadata": {},
   "outputs": [
    {
     "data": {
      "text/plain": [
       "1"
      ]
     },
     "execution_count": 4,
     "metadata": {},
     "output_type": "execute_result"
    }
   ],
   "source": [
    "import random\n",
    "random.random() #0-1之间随机数\n",
    "random.randint(0,10) #0-10之间随机整数"
   ]
  },
  {
   "cell_type": "code",
   "execution_count": 6,
   "id": "5761237a-04e6-47f8-85e1-5b50babf90ee",
   "metadata": {},
   "outputs": [
    {
     "data": {
      "text/plain": [
       "1727102534.0200467"
      ]
     },
     "execution_count": 6,
     "metadata": {},
     "output_type": "execute_result"
    }
   ],
   "source": [
    "import time\n",
    "time.time() #初始时间到现在的秒数"
   ]
  },
  {
   "cell_type": "code",
   "execution_count": null,
   "id": "286cef54-85d5-4d67-ad93-0c50943443d8",
   "metadata": {},
   "outputs": [],
   "source": []
  }
 ],
 "metadata": {
  "kernelspec": {
   "display_name": "Python 3 (ipykernel)",
   "language": "python",
   "name": "python3"
  },
  "language_info": {
   "codemirror_mode": {
    "name": "ipython",
    "version": 3
   },
   "file_extension": ".py",
   "mimetype": "text/x-python",
   "name": "python",
   "nbconvert_exporter": "python",
   "pygments_lexer": "ipython3",
   "version": "3.12.4"
  }
 },
 "nbformat": 4,
 "nbformat_minor": 5
}
